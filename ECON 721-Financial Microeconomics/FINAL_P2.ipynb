{
 "cells": [
  {
   "cell_type": "code",
   "execution_count": 1,
   "metadata": {},
   "outputs": [],
   "source": [
    "import numpy as np\n",
    "import pandas as pd\n",
    "import matplotlib.pyplot as plt\n",
    "from scipy.optimize import fmin_cobyla"
   ]
  },
  {
   "cell_type": "code",
   "execution_count": 2,
   "metadata": {},
   "outputs": [],
   "source": [
    "def bond_price_calculator(face_value, coupon_value, maturity, method):\n",
    "    \n",
    "    if method == 'a':\n",
    "        # Fixed annual interest rate\n",
    "        r = 0.05\n",
    "        price = 0\n",
    "        for t in range(1, maturity + 1):\n",
    "            price += coupon_value / (1 + r) ** t\n",
    "        price += face_value / (1 + r) ** maturity\n",
    "    elif method == 'c':\n",
    "        # Series of Fisher prices\n",
    "        fisher_prices= [1, 2, 3, 4, 5, 6, 7, 8, 9, 10, 11, 12]\n",
    "        if len(fisher_prices) < maturity:\n",
    "            print(\"Error: Not enough Fisher prices provided for the bond's maturity.\")\n",
    "            return\n",
    "        price = 0\n",
    "        for t in range(1, maturity + 1):\n",
    "            d_t = fisher_prices[t - 1]\n",
    "            price += coupon_value * d_t\n",
    "        price += face_value * fisher_prices[maturity - 1]\n",
    "    elif method == 'b':\n",
    "        # Series of forward rates\n",
    "        forward_rates = [0.01, 0.02, 0.03, 0.04, 0.05, 0.06, 0.07, 0.08, 0.09, 0.1]\n",
    "        if len(forward_rates) < maturity:\n",
    "            print(\"Error: Not enough forward rates provided for the bond's maturity.\")\n",
    "            return\n",
    "        discount_factors = []\n",
    "        cumulative_product = 1.0\n",
    "        for f in forward_rates[:maturity]:\n",
    "            cumulative_product *= (1 + f)\n",
    "            discount_factors.append(1 / cumulative_product)\n",
    "        price = 0\n",
    "        for t in range(1, maturity + 1):\n",
    "            d_t = discount_factors[t - 1]\n",
    "            price += coupon_value * d_t\n",
    "        price += face_value * discount_factors[maturity - 1]\n",
    "    else:\n",
    "        print(\"Invalid choice. Please restart the program and select a valid option.\")\n",
    "        return\n",
    "    \n",
    "    print(f\"The price of the bond is {price:.2f}\")"
   ]
  },
  {
   "cell_type": "markdown",
   "metadata": {},
   "source": [
    "## (a)"
   ]
  },
  {
   "cell_type": "code",
   "execution_count": 3,
   "metadata": {},
   "outputs": [
    {
     "name": "stdout",
     "output_type": "stream",
     "text": [
      "The price of the bond is 261.58\n"
     ]
    }
   ],
   "source": [
    "bond_price_calculator(100,30,8,'a')"
   ]
  },
  {
   "cell_type": "markdown",
   "metadata": {},
   "source": [
    "## (b)"
   ]
  },
  {
   "cell_type": "code",
   "execution_count": 4,
   "metadata": {},
   "outputs": [
    {
     "name": "stdout",
     "output_type": "stream",
     "text": [
      "The price of the bond is 281.24\n"
     ]
    }
   ],
   "source": [
    "bond_price_calculator(200,20,10,'b')"
   ]
  },
  {
   "cell_type": "markdown",
   "metadata": {},
   "source": [
    "## (c)"
   ]
  },
  {
   "cell_type": "code",
   "execution_count": 6,
   "metadata": {},
   "outputs": [
    {
     "name": "stdout",
     "output_type": "stream",
     "text": [
      "The price of the bond is 4380.00\n"
     ]
    }
   ],
   "source": [
    "bond_price_calculator(300,10,12,'c')"
   ]
  }
 ],
 "metadata": {
  "kernelspec": {
   "display_name": "base",
   "language": "python",
   "name": "python3"
  },
  "language_info": {
   "codemirror_mode": {
    "name": "ipython",
    "version": 3
   },
   "file_extension": ".py",
   "mimetype": "text/x-python",
   "name": "python",
   "nbconvert_exporter": "python",
   "pygments_lexer": "ipython3",
   "version": "3.11.4"
  }
 },
 "nbformat": 4,
 "nbformat_minor": 2
}
