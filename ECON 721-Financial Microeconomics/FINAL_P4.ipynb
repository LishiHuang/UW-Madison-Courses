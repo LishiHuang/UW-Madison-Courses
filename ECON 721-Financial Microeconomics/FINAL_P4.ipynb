{
 "cells": [
  {
   "cell_type": "code",
   "execution_count": 24,
   "metadata": {},
   "outputs": [],
   "source": [
    "import numpy as np\n",
    "import pandas as pd\n",
    "import matplotlib.pyplot as plt\n",
    "from scipy.optimize import fmin_cobyla"
   ]
  },
  {
   "cell_type": "markdown",
   "metadata": {},
   "source": [
    "# P4"
   ]
  },
  {
   "cell_type": "markdown",
   "metadata": {},
   "source": [
    "## (a)"
   ]
  },
  {
   "cell_type": "code",
   "execution_count": 25,
   "metadata": {},
   "outputs": [],
   "source": [
    "\n",
    "# Parameters\n",
    "pi = np.array([0.8, 0.2])  # Probabilities of the states\n",
    "e_A = np.array([300, 550])  # Endowment for Aaron\n",
    "e_B = np.array([900, 500])  # Endowment for Bryan\n",
    "\n",
    "theta_A = theta_B = 2.0  # Risk aversion coefficients\n",
    "e_total = e_A + e_B  # Total endowment"
   ]
  },
  {
   "cell_type": "code",
   "execution_count": 26,
   "metadata": {},
   "outputs": [],
   "source": [
    "# Agent optimization problem\n",
    "def compute_optimal_consumption(e, theta, p, pi):\n",
    "    # Compute the ratio of x_1 to x_0 from FOC\n",
    "    ratio = (pi[1] * p[0] / (pi[0] * p[1]))**(1 / theta)\n",
    "    \n",
    "    # Budget constraint: p[0]*x0 + p[1]*x1 = p[0]*e[0] + p[1]*e[1]\n",
    "    # Substitute x1 = ratio * x0 into the budget\n",
    "    x0 = (p[0] * e[0] + p[1] * e[1]) / (p[0] + p[1] * ratio)\n",
    "    x1 = ratio * x0\n",
    "    \n",
    "    return np.array([x0, x1])"
   ]
  },
  {
   "cell_type": "code",
   "execution_count": 27,
   "metadata": {},
   "outputs": [],
   "source": [
    "def check_market_clearing(consumption_A, consumption_B, endowment_total):\n",
    "\n",
    "    # Compute total consumption in each state\n",
    "    total_consumption = consumption_A + consumption_B \n",
    "\n",
    "    # Compute residuals\n",
    "    residuals = total_consumption - endowment_total\n",
    "\n",
    "    return residuals"
   ]
  },
  {
   "cell_type": "code",
   "execution_count": 28,
   "metadata": {},
   "outputs": [
    {
     "name": "stdout",
     "output_type": "stream",
     "text": [
      "Market clearing prices p: [1.   0.33]\n"
     ]
    }
   ],
   "source": [
    "\n",
    "def find_market_clearing_price(e_A, e_B, theta_A, theta_B, pi, tol=1e-6, max_iter=1000):\n",
    "    p1 = 0.5  # Initial guess of p[0]\n",
    "    p_bounds = np.array([0.0, 1.0])  # Bounds for p[0]\n",
    "    err = 1  # Initialize error\n",
    "    n_iter = max_iter  # Initialize iteration counter\n",
    "    iteration = 1\n",
    "    while (err > tol) and (n_iter > iteration):\n",
    "        # print(\"Iteration :\", iteration)\n",
    "        iteration += 1\n",
    "        # Define the price vector\n",
    "        p = np.array([p1, 1 - p1])\n",
    "        # Compute optimal consumptions for each trader\n",
    "        x_A = compute_optimal_consumption(e_A, theta_A, p, pi)\n",
    "        x_B = compute_optimal_consumption(e_B, theta_B, p, pi)\n",
    "        # Check market clearing\n",
    "        residuals = check_market_clearing(x_A, x_B, e_total)\n",
    "        err = np.linalg.norm(residuals)\n",
    "\n",
    "        # Check convergence\n",
    "        if err > tol:\n",
    "            if residuals[0] > 0:\n",
    "                # print(f\"Market clearing error is positive {residuals[0]}, increase p1\")\n",
    "                p1_new = (p_bounds[1] + p1) / 2\n",
    "                p_bounds[0] = p1\n",
    "                p1 = p1_new\n",
    "                # print(\"New p1:\", p1)\n",
    "                # print(\"New bounds:\", p_bounds)\n",
    "            else:\n",
    "                # print(f\"Market clearing error is negative {residuals[0]}, decrease p1\")\n",
    "                p1_new = (p1 + p_bounds[0]) / 2\n",
    "                p_bounds[1] = p1\n",
    "                p1 = p1_new\n",
    "                # print(\"New p1:\", p1)\n",
    "                # print(\"New bounds:\", p_bounds)\n",
    "\n",
    "    return np.array([p1, 1 - p1])\n",
    "\n",
    "# Example usage\n",
    "p_market_clearing = find_market_clearing_price(e_A, e_B, theta_A, theta_B, pi)\n",
    "central_factor=1/p_market_clearing[0]\n",
    "central_price=p_market_clearing*central_factor\n",
    "print(\"Market clearing prices p:\", np.round(central_price, 2))\n"
   ]
  },
  {
   "cell_type": "code",
   "execution_count": 29,
   "metadata": {},
   "outputs": [
    {
     "name": "stdout",
     "output_type": "stream",
     "text": [
      "Stochastic discount factor (SDF) in each state: [1.25 1.63]\n",
      "Q: [0.75 0.25]\n"
     ]
    }
   ],
   "source": [
    "\n",
    "# Compute the stochastic discount factor (SDF) for each state\n",
    "m = central_price / pi  # SDF = Arrow prices / state probabilities\n",
    "avg_m = np.dot(m , pi)  # Average SDF\n",
    "print(\"Stochastic discount factor (SDF) in each state:\", np.round(m, 2))\n",
    "q= m * pi / avg_m\n",
    "print(\"Q:\", np.round(q, 2))\n"
   ]
  },
  {
   "cell_type": "markdown",
   "metadata": {},
   "source": [
    "## (b)"
   ]
  },
  {
   "cell_type": "code",
   "execution_count": 30,
   "metadata": {},
   "outputs": [
    {
     "name": "stdout",
     "output_type": "stream",
     "text": [
      "Price of the asset with payoffs A_1 is P_1 = 1.33\n",
      "Price of the asset with payoffs A_2 is P_2 = 5.0\n"
     ]
    }
   ],
   "source": [
    "def compute_asset_price(A, m, pi):\n",
    "\n",
    "    return np.sum(A * m * pi)\n",
    "\n",
    "# Example usage\n",
    "A_1 = np.array([1, 1])  \n",
    "A_2 = np.array([5, 0])  \n",
    "P_1 = compute_asset_price(A_1, m, pi)\n",
    "P_2 = compute_asset_price(A_2, m, pi)\n",
    "\n",
    "print(\"Price of the asset with payoffs A_1 is P_1 =\", np.round(P_1, 2))\n",
    "print(\"Price of the asset with payoffs A_2 is P_2 =\", np.round(P_2, 2))"
   ]
  },
  {
   "cell_type": "markdown",
   "metadata": {},
   "source": [
    "## (c)"
   ]
  },
  {
   "cell_type": "code",
   "execution_count": 31,
   "metadata": {},
   "outputs": [
    {
     "name": "stdout",
     "output_type": "stream",
     "text": [
      "Aaron's optimal consumption: [373.01587314 326.38888879]\n",
      "Baron's optimal consumption: [826.98412703 723.6111107 ]\n"
     ]
    },
    {
     "data": {
      "text/plain": [
       "array([ 1.64723815e-07, -5.04466470e-07])"
      ]
     },
     "execution_count": 31,
     "metadata": {},
     "output_type": "execute_result"
    }
   ],
   "source": [
    "p = central_price  # Example Arrow prices (normalized to sum to 1)\n",
    "\n",
    "# Compute optimal consumptions for each trader\n",
    "x_A = compute_optimal_consumption(e_A, theta_A, p, pi)\n",
    "x_B = compute_optimal_consumption(e_B, theta_B, p, pi)\n",
    "\n",
    "print(\"Aaron's optimal consumption:\", x_A)\n",
    "print(\"Baron's optimal consumption:\", x_B)\n",
    "\n",
    "check_market_clearing(x_A, x_B, e_total)"
   ]
  },
  {
   "cell_type": "markdown",
   "metadata": {},
   "source": [
    "## (d)"
   ]
  },
  {
   "cell_type": "code",
   "execution_count": null,
   "metadata": {},
   "outputs": [
    {
     "name": "stdout",
     "output_type": "stream",
     "text": [
      "Market clearing prices p: [1.   0.34]\n",
      "Stochastic discount factor (SDF) in each state: [1.25 1.7 ]\n",
      "Q: [0.75 0.25]\n",
      "Price of the asset with payoffs A_1 is P_1 = 1.34\n",
      "Price of the asset with payoffs A_2 is P_2 = 5.0\n",
      "Aaron's optimal consumption: [377.29776185 323.16564651]\n",
      "Baron's optimal consumption: [822.70223816 726.83435346]\n"
     ]
    },
    {
     "data": {
      "text/plain": [
       "array([ 1.24121016e-08, -3.64236712e-08])"
      ]
     },
     "execution_count": 32,
     "metadata": {},
     "output_type": "execute_result"
    }
   ],
   "source": [
    "theta_B = 2.5\n",
    "p_market_clearing = find_market_clearing_price(e_A, e_B, theta_A, theta_B, pi)\n",
    "central_factor=1/p_market_clearing[0]\n",
    "central_price=p_market_clearing*central_factor\n",
    "print(\"Market clearing prices p:\", np.round(central_price, 2))\n",
    "\n",
    "\n",
    "# Compute the stochastic discount factor (SDF) for each state\n",
    "m = central_price / pi  # SDF = Arrow prices / state probabilities\n",
    "avg_m = np.dot(m , pi)  # Average SDF\n",
    "print(\"Stochastic discount factor (SDF) in each state:\", np.round(m, 2))\n",
    "q= m * pi / avg_m\n",
    "print(\"Q:\", np.round(q, 2))\n",
    "\n",
    "def compute_asset_price(A, m, pi):\n",
    "\n",
    "    return np.sum(A * m * pi)\n",
    "\n",
    "# Example usage\n",
    "A_1 = np.array([1, 1])  \n",
    "A_2 = np.array([5, 0])  \n",
    "P_1 = compute_asset_price(A_1, m, pi)\n",
    "P_2 = compute_asset_price(A_2, m, pi)\n",
    "\n",
    "print(\"Price of the asset with payoffs A_1 is P_1 =\", np.round(P_1, 2))\n",
    "print(\"Price of the asset with payoffs A_2 is P_2 =\", np.round(P_2, 2))\n",
    "\n",
    "p = central_price\n",
    "\n",
    "# Compute optimal consumptions for each trader\n",
    "x_A = compute_optimal_consumption(e_A, theta_A, p, pi)\n",
    "x_B = compute_optimal_consumption(e_B, theta_B, p, pi)\n",
    "\n",
    "print(\"Aaron's optimal consumption:\", x_A)\n",
    "print(\"Baron's optimal consumption:\", x_B)\n",
    "\n",
    "check_market_clearing(x_A, x_B, e_total)"
   ]
  },
  {
   "cell_type": "code",
   "execution_count": null,
   "metadata": {},
   "outputs": [
    {
     "name": "stdout",
     "output_type": "stream",
     "text": [
      "Market clearing prices p: [1.   0.35]\n",
      "Stochastic discount factor (SDF) in each state: [1.25 1.77]\n",
      "Q: [0.74 0.26]\n",
      "Price of the asset with payoffs A_1 is P_1 = 1.35\n",
      "Price of the asset with payoffs A_2 is P_2 = 5.0\n",
      "Aaron's optimal consumption: [381.1459316  320.49618836]\n",
      "Baron's optimal consumption: [818.8540687  729.50381078]\n"
     ]
    },
    {
     "data": {
      "text/plain": [
       "array([ 3.04944024e-07, -8.62468823e-07])"
      ]
     },
     "execution_count": 33,
     "metadata": {},
     "output_type": "execute_result"
    }
   ],
   "source": [
    "theta_B = 3\n",
    "p_market_clearing = find_market_clearing_price(e_A, e_B, theta_A, theta_B, pi)\n",
    "central_factor=1/p_market_clearing[0]\n",
    "central_price=p_market_clearing*central_factor\n",
    "print(\"Market clearing prices p:\", np.round(central_price, 2))\n",
    "\n",
    "\n",
    "# Compute the stochastic discount factor (SDF) for each state\n",
    "m = central_price / pi  # SDF = Arrow prices / state probabilities\n",
    "avg_m = np.dot(m , pi)  # Average SDF\n",
    "print(\"Stochastic discount factor (SDF) in each state:\", np.round(m, 2))\n",
    "q= m * pi / avg_m\n",
    "print(\"Q:\", np.round(q, 2))\n",
    "\n",
    "def compute_asset_price(A, m, pi):\n",
    "\n",
    "    return np.sum(A * m * pi)\n",
    "\n",
    "# Example usage\n",
    "A_1 = np.array([1, 1])  \n",
    "A_2 = np.array([5, 0])  \n",
    "P_1 = compute_asset_price(A_1, m, pi)\n",
    "P_2 = compute_asset_price(A_2, m, pi)\n",
    "\n",
    "print(\"Price of the asset with payoffs A_1 is P_1 =\", np.round(P_1, 2))\n",
    "print(\"Price of the asset with payoffs A_2 is P_2 =\", np.round(P_2, 2))\n",
    "p = central_price\n",
    "\n",
    "# Compute optimal consumptions for each trader\n",
    "x_A = compute_optimal_consumption(e_A, theta_A, p, pi)\n",
    "x_B = compute_optimal_consumption(e_B, theta_B, p, pi)\n",
    "\n",
    "print(\"Aaron's optimal consumption:\", x_A)\n",
    "print(\"Baron's optimal consumption:\", x_B)\n",
    "\n",
    "check_market_clearing(x_A, x_B, e_total)"
   ]
  },
  {
   "cell_type": "code",
   "execution_count": null,
   "metadata": {},
   "outputs": [
    {
     "name": "stdout",
     "output_type": "stream",
     "text": [
      "Market clearing prices p: [1.   0.37]\n",
      "Stochastic discount factor (SDF) in each state: [1.25 1.83]\n",
      "Q: [0.73 0.27]\n",
      "Price of the asset with payoffs A_1 is P_1 = 1.37\n",
      "Price of the asset with payoffs A_2 is P_2 = 5.0\n",
      "Aaron's optimal consumption: [384.61690646 318.25489307]\n",
      "Baron's optimal consumption: [815.3830933  731.74510759]\n"
     ]
    },
    {
     "data": {
      "text/plain": [
       "array([-2.38782832e-07,  6.53968073e-07])"
      ]
     },
     "execution_count": 34,
     "metadata": {},
     "output_type": "execute_result"
    }
   ],
   "source": [
    "theta_B = 3.5\n",
    "p_market_clearing = find_market_clearing_price(e_A, e_B, theta_A, theta_B, pi)\n",
    "central_factor=1/p_market_clearing[0]\n",
    "central_price=p_market_clearing*central_factor\n",
    "print(\"Market clearing prices p:\", np.round(central_price, 2))\n",
    "\n",
    "\n",
    "# Compute the stochastic discount factor (SDF) for each state\n",
    "m = central_price / pi  # SDF = Arrow prices / state probabilities\n",
    "avg_m = np.dot(m , pi)  # Average SDF\n",
    "print(\"Stochastic discount factor (SDF) in each state:\", np.round(m, 2))\n",
    "q= m * pi / avg_m\n",
    "print(\"Q:\", np.round(q, 2))\n",
    "\n",
    "def compute_asset_price(A, m, pi):\n",
    "\n",
    "    return np.sum(A * m * pi)\n",
    "\n",
    "# Example usage\n",
    "A_1 = np.array([1, 1])  \n",
    "A_2 = np.array([5, 0])  \n",
    "P_1 = compute_asset_price(A_1, m, pi)\n",
    "P_2 = compute_asset_price(A_2, m, pi)\n",
    "\n",
    "print(\"Price of the asset with payoffs A_1 is P_1 =\", np.round(P_1, 2))\n",
    "print(\"Price of the asset with payoffs A_2 is P_2 =\", np.round(P_2, 2))\n",
    "p = central_price  # Example Arrow prices (normalized to sum to 1)\n",
    "\n",
    "# Compute optimal consumptions for each trader\n",
    "x_A = compute_optimal_consumption(e_A, theta_A, p, pi)\n",
    "x_B = compute_optimal_consumption(e_B, theta_B, p, pi)\n",
    "\n",
    "print(\"Aaron's optimal consumption:\", x_A)\n",
    "print(\"Baron's optimal consumption:\", x_B)\n",
    "\n",
    "check_market_clearing(x_A, x_B, e_total)"
   ]
  },
  {
   "cell_type": "markdown",
   "metadata": {},
   "source": [
    "## (e)"
   ]
  },
  {
   "cell_type": "code",
   "execution_count": 35,
   "metadata": {},
   "outputs": [],
   "source": [
    "theta_B = theta_A = 2.0  # Redefine Risk aversion coefficients\n",
    "pi_A = np.array([0.8, 0.2])  # Probabilities of the states\n",
    "pi_B = np.array([0.6, 0.4])  # Probabilities of the states"
   ]
  },
  {
   "cell_type": "code",
   "execution_count": 36,
   "metadata": {},
   "outputs": [
    {
     "name": "stdout",
     "output_type": "stream",
     "text": [
      "Market clearing prices p: [1.   0.63]\n"
     ]
    }
   ],
   "source": [
    "def find_market_clearing_price_different_expectation(e_A, e_B, theta_A, theta_B, pi_A, pi_B, tol=1e-6, max_iter=1000):\n",
    "    p1 = 0.5  # Initial guess of p[0]\n",
    "    p_bounds = np.array([0.0, 1.0])  # Bounds for p[0]\n",
    "    err = 1  # Initialize error\n",
    "    n_iter = max_iter  # Initialize iteration counter\n",
    "    iteration = 1\n",
    "    while (err > tol) and (n_iter > iteration):\n",
    "        # print(\"Iteration :\", iteration)\n",
    "        iteration += 1\n",
    "        # Define the price vector\n",
    "        p = np.array([p1, 1 - p1])\n",
    "        # Compute optimal consumptions for each trader\n",
    "        x_A = compute_optimal_consumption(e_A, theta_A, p, pi_A)\n",
    "        x_B = compute_optimal_consumption(e_B, theta_B, p, pi_B)\n",
    "        # Check market clearing\n",
    "        residuals = check_market_clearing(x_A, x_B, e_total)\n",
    "        err = np.linalg.norm(residuals)\n",
    "\n",
    "        # Check convergence\n",
    "        if err > tol:\n",
    "            if residuals[0] > 0:\n",
    "                # print(f\"Market clearing error is positive {residuals[0]}, increase p1\")\n",
    "                p1_new = (p_bounds[1] + p1) / 2\n",
    "                p_bounds[0] = p1\n",
    "                p1 = p1_new\n",
    "                # print(\"New p1:\", p1)\n",
    "                # print(\"New bounds:\", p_bounds)\n",
    "            else:\n",
    "                # print(f\"Market clearing error is negative {residuals[0]}, decrease p1\")\n",
    "                p1_new = (p1 + p_bounds[0]) / 2\n",
    "                p_bounds[1] = p1\n",
    "                p1 = p1_new\n",
    "                # print(\"New p1:\", p1)\n",
    "                # print(\"New bounds:\", p_bounds)\n",
    "\n",
    "    return np.array([p1, 1 - p1])\n",
    "\n",
    "# Example usage\n",
    "p_market_clearing = find_market_clearing_price_different_expectation(e_A, e_B, theta_A, theta_B, pi_A, pi_B)\n",
    "central_factor=1/p_market_clearing[0]\n",
    "central_price=p_market_clearing*central_factor\n",
    "print(\"Market clearing prices p:\", np.round(central_price, 2))\n"
   ]
  },
  {
   "cell_type": "code",
   "execution_count": 37,
   "metadata": {},
   "outputs": [
    {
     "name": "stdout",
     "output_type": "stream",
     "text": [
      "Stochastic discount factor (SDF) in each state: [1.25 3.15]\n",
      "Q: [0.61 0.39]\n"
     ]
    }
   ],
   "source": [
    "\n",
    "# Compute the stochastic discount factor (SDF) for each state\n",
    "m = central_price / pi  # SDF = Arrow prices / state probabilities\n",
    "avg_m = np.dot(m , pi)  # Average SDF\n",
    "print(\"Stochastic discount factor (SDF) in each state:\", np.round(m, 2))\n",
    "q= m * pi / avg_m\n",
    "print(\"Q:\", np.round(q, 2))\n"
   ]
  },
  {
   "cell_type": "code",
   "execution_count": 38,
   "metadata": {},
   "outputs": [
    {
     "name": "stdout",
     "output_type": "stream",
     "text": [
      "Aaron's optimal consumption: [462.78535512 291.55736908]\n",
      "Baron's optimal consumption: [737.21464524 758.44263036]\n"
     ]
    },
    {
     "data": {
      "text/plain": [
       "array([ 3.55865495e-07, -5.64981974e-07])"
      ]
     },
     "execution_count": 38,
     "metadata": {},
     "output_type": "execute_result"
    }
   ],
   "source": [
    "p = central_price  # Example Arrow prices (normalized to sum to 1)\n",
    "\n",
    "# Compute optimal consumptions for each trader\n",
    "x_A = compute_optimal_consumption(e_A, theta_A, p, pi_A)\n",
    "x_B = compute_optimal_consumption(e_B, theta_B, p, pi_B)\n",
    "\n",
    "print(\"Aaron's optimal consumption:\", x_A)\n",
    "print(\"Baron's optimal consumption:\", x_B)\n",
    "\n",
    "check_market_clearing(x_A, x_B, e_total)"
   ]
  },
  {
   "cell_type": "markdown",
   "metadata": {},
   "source": [
    "## (f)"
   ]
  },
  {
   "cell_type": "code",
   "execution_count": 39,
   "metadata": {},
   "outputs": [],
   "source": [
    "theta_C = theta_B = theta_A = 2.0  # Redefine Risk aversion coefficients\n",
    "pi_C = np.array([0.8, 0.2])  # Probabilities of the states\n",
    "e_C = np.array([200, 400])  # Endowment for Charlie\n",
    "e_total = e_A + e_B + e_C  # Total endowment"
   ]
  },
  {
   "cell_type": "code",
   "execution_count": 40,
   "metadata": {},
   "outputs": [],
   "source": [
    "def check_market_clearing3(consumption_A, consumption_B, consumption_C, endowment_total):\n",
    "\n",
    "    # Compute total consumption in each state\n",
    "    total_consumption = consumption_A + consumption_B + consumption_C\n",
    "\n",
    "    # Compute residuals\n",
    "    residuals = total_consumption - endowment_total\n",
    "\n",
    "    return residuals"
   ]
  },
  {
   "cell_type": "code",
   "execution_count": 41,
   "metadata": {},
   "outputs": [
    {
     "name": "stdout",
     "output_type": "stream",
     "text": [
      "Market clearing prices p: [1.   0.41]\n"
     ]
    }
   ],
   "source": [
    "def find_market_clearing_price_3a(e_A, e_B, e_C, theta_A, theta_B,theta_C, pi_A, pi_B, pi_C,tol=1e-6, max_iter=1000):\n",
    "    p1 = 0.5  # Initial guess of p[0]\n",
    "    p_bounds = np.array([0.0, 1.0])  # Bounds for p[0]\n",
    "    err = 1  # Initialize error\n",
    "    n_iter = max_iter  # Initialize iteration counter\n",
    "    iteration = 1\n",
    "    while (err > tol) and (n_iter > iteration):\n",
    "        # print(\"Iteration :\", iteration)\n",
    "        iteration += 1\n",
    "        # Define the price vector\n",
    "        p = np.array([p1, 1 - p1])\n",
    "        # Compute optimal consumptions for each trader\n",
    "        x_A = compute_optimal_consumption(e_A, theta_A, p, pi_A)\n",
    "        x_B = compute_optimal_consumption(e_B, theta_B, p, pi_B)\n",
    "        x_C = compute_optimal_consumption(e_C, theta_C, p, pi_C)\n",
    "        # Check market clearing\n",
    "        residuals = check_market_clearing3(x_A, x_B, x_C, e_total)\n",
    "        err = np.linalg.norm(residuals)\n",
    "\n",
    "        # Check convergence\n",
    "        if err > tol:\n",
    "            if residuals[0] > 0:\n",
    "                # print(f\"Market clearing error is positive {residuals[0]}, increase p1\")\n",
    "                p1_new = (p_bounds[1] + p1) / 2\n",
    "                p_bounds[0] = p1\n",
    "                p1 = p1_new\n",
    "                # print(\"New p1:\", p1)\n",
    "                # print(\"New bounds:\", p_bounds)\n",
    "            else:\n",
    "                # print(f\"Market clearing error is negative {residuals[0]}, decrease p1\")\n",
    "                p1_new = (p1 + p_bounds[0]) / 2\n",
    "                p_bounds[1] = p1\n",
    "                p1 = p1_new\n",
    "                # print(\"New p1:\", p1)\n",
    "                # print(\"New bounds:\", p_bounds)\n",
    "\n",
    "    return np.array([p1, 1 - p1])\n",
    "\n",
    "# Example usage\n",
    "p_market_clearing = find_market_clearing_price_3a(e_A, e_B, e_C, theta_A, theta_B, theta_C, pi_A, pi_B, pi_C)\n",
    "central_factor=1/p_market_clearing[0]\n",
    "central_price=p_market_clearing*central_factor\n",
    "print(\"Market clearing prices p:\", np.round(central_price, 2))"
   ]
  },
  {
   "cell_type": "code",
   "execution_count": 42,
   "metadata": {},
   "outputs": [
    {
     "name": "stdout",
     "output_type": "stream",
     "text": [
      "Stochastic discount factor (SDF) in each state: [1.25 2.06]\n",
      "Q: [0.71 0.29]\n"
     ]
    }
   ],
   "source": [
    "# Compute the stochastic discount factor (SDF) for each state\n",
    "m = central_price / pi  # SDF = Arrow prices / state probabilities\n",
    "avg_m = np.dot(m , pi)  # Average SDF\n",
    "print(\"Stochastic discount factor (SDF) in each state:\", np.round(m, 2))\n",
    "q= m * pi / avg_m\n",
    "print(\"Q:\", np.round(q, 2))"
   ]
  },
  {
   "cell_type": "code",
   "execution_count": 43,
   "metadata": {},
   "outputs": [
    {
     "name": "stdout",
     "output_type": "stream",
     "text": [
      "Aaron's optimal consumption: [398.3798948  310.67585318]\n",
      "Baron's optimal consumption: [725.6573779  924.11510371]\n",
      "Charlie's optimal consumption: [275.96272746 215.20904272]\n"
     ]
    },
    {
     "data": {
      "text/plain": [
       "array([ 1.59184310e-07, -3.87240107e-07])"
      ]
     },
     "execution_count": 43,
     "metadata": {},
     "output_type": "execute_result"
    }
   ],
   "source": [
    "p = central_price  # Example Arrow prices (normalized to sum to 1)\n",
    "\n",
    "# Compute optimal consumptions for each trader\n",
    "x_A = compute_optimal_consumption(e_A, theta_A, p, pi_A)\n",
    "x_B = compute_optimal_consumption(e_B, theta_B, p, pi_B)\n",
    "x_C = compute_optimal_consumption(e_C, theta_C, p, pi_C)\n",
    "\n",
    "print(\"Aaron's optimal consumption:\", x_A)\n",
    "print(\"Baron's optimal consumption:\", x_B)\n",
    "print(\"Charlie's optimal consumption:\", x_C)\n",
    "\n",
    "check_market_clearing3(x_A, x_B, x_C, e_total)"
   ]
  }
 ],
 "metadata": {
  "kernelspec": {
   "display_name": "base",
   "language": "python",
   "name": "python3"
  },
  "language_info": {
   "codemirror_mode": {
    "name": "ipython",
    "version": 3
   },
   "file_extension": ".py",
   "mimetype": "text/x-python",
   "name": "python",
   "nbconvert_exporter": "python",
   "pygments_lexer": "ipython3",
   "version": "3.11.4"
  }
 },
 "nbformat": 4,
 "nbformat_minor": 2
}
