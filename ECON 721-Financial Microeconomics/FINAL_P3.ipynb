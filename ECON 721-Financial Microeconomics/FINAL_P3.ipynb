{
 "cells": [
  {
   "cell_type": "code",
   "execution_count": 1,
   "metadata": {},
   "outputs": [],
   "source": [
    "import numpy as np\n",
    "import pandas as pd\n",
    "import matplotlib.pyplot as plt\n",
    "from scipy.optimize import fmin_cobyla"
   ]
  },
  {
   "cell_type": "markdown",
   "metadata": {},
   "source": [
    "## (a)"
   ]
  },
  {
   "cell_type": "code",
   "execution_count": null,
   "metadata": {},
   "outputs": [
    {
     "name": "stdout",
     "output_type": "stream",
     "text": [
      "[0.04 0.08 0.08]\n"
     ]
    }
   ],
   "source": [
    "\n",
    "\n",
    "# Given payoff matrix A and prices p\n",
    "A = np.array([\n",
    "    [5, 30, 5],\n",
    "    [5, 10, 0],\n",
    "    [5, 0, 10]\n",
    "])\n",
    "\n",
    "P = np.array([1, 2, 1])\n",
    "\n",
    "#Compute basic prices for matrix of payoffs and prices\n",
    "def compute_basic(A,P):\n",
    "    num_states = len(A)\n",
    "    num_assets = len(P)\n",
    "    subA = A[:,0:num_states]\n",
    "    subP = P[0:num_states]\n",
    "    pb = np.linalg.inv(np.transpose(subA)) @ subP\n",
    "    return pb\n",
    "\n",
    "pb = compute_basic(A,P)\n",
    "print(pb)"
   ]
  },
  {
   "cell_type": "markdown",
   "metadata": {},
   "source": [
    "## (b)"
   ]
  },
  {
   "cell_type": "code",
   "execution_count": 10,
   "metadata": {},
   "outputs": [
    {
     "name": "stdout",
     "output_type": "stream",
     "text": [
      "The asset is too expensive (overpriced).\n",
      "Sell 1 unit of asset 3 at $4 and buy the portfolio replication (2 unit of p̄0, 2 units of p̄1, 3 units of p̄2) for $0.48\n",
      "Arbitrage profit per unit: 3.52\n"
     ]
    }
   ],
   "source": [
    "def check_asset_mispricing(A_new, p_new, arrow_prices):\n",
    "\n",
    "    # Compute theoretical price\n",
    "    p_star = np.dot(A_new, arrow_prices)\n",
    "    # Determine mispricing\n",
    "    if p_star > p_new:\n",
    "        status = \"The asset is too cheap (underpriced).\"\n",
    "        arbitrage_profit = p_star - p_new\n",
    "    elif p_star < p_new:\n",
    "        status = \"The asset is too expensive (overpriced).\"\n",
    "        arbitrage_profit = p_new - p_star\n",
    "    else:\n",
    "        status = \"The asset is correctly priced.\"\n",
    "        arbitrage_profit = 0.0\n",
    "    return p_star, status, arbitrage_profit\n",
    "\n",
    "# Given new asset A3 and price p3\n",
    "A3 = np.array([2, 2, 3])\n",
    "p3 = 4\n",
    "\n",
    "# Check mispricing\n",
    "p_star, status, arbitrage_profit = check_asset_mispricing(A3, p3, pb)\n",
    "\n",
    "print(status)\n",
    "print(f\"Sell 1 unit of asset 3 at ${p3} and buy the portfolio replication (2 unit of p̄0, 2 units of p̄1, 3 units of p̄2) for ${p_star:.2f}\")\n",
    "print(f\"Arbitrage profit per unit: {arbitrage_profit:.2f}\")\n"
   ]
  },
  {
   "cell_type": "markdown",
   "metadata": {},
   "source": [
    "## (c)"
   ]
  },
  {
   "cell_type": "code",
   "execution_count": 15,
   "metadata": {},
   "outputs": [
    {
     "name": "stdout",
     "output_type": "stream",
     "text": [
      "[10048.32808784  9351.02283908 10624.81311699]\n",
      "Total cost: 2000.0\n"
     ]
    }
   ],
   "source": [
    "\n",
    "# %%\n",
    "\"Given basic prices, compute optimal consumption\"\n",
    "# Negative of the utility function\n",
    "prob_1 = 0.2\n",
    "prob_2 = 0.3\n",
    "prob_3 = 0.5\n",
    "theta = 4\n",
    "m = 2000\n",
    "\n",
    "def U(x):\n",
    "    return -(prob_1*(x[0])**(1-theta)/(1-theta)+prob_2*x[1]**(1-theta)/(1-theta)+prob_3*x[2]**(1-theta)/(1-theta))\n",
    "\n",
    "# Constraints\n",
    "def budget(x):\n",
    "    return m - x[0]*pb[0] - x[1]*pb[1]-x[2]*pb[2]\n",
    "\n",
    "def x_1_positive(x):\n",
    "    return x[0]\n",
    "\n",
    "def x_2_positive(x):\n",
    "    return x[1]\n",
    "\n",
    "def x_3_positive(x):\n",
    "    return x[2]\n",
    "\n",
    "solution = fmin_cobyla(U, [10000,10000,10000], [budget, x_1_positive, x_2_positive, x_3_positive], rhoend = 1e-7)\n",
    "\n",
    "print(solution)\n",
    "print(\"Total cost:\", sum(pb*solution))"
   ]
  },
  {
   "cell_type": "markdown",
   "metadata": {},
   "source": [
    "## (d)"
   ]
  },
  {
   "cell_type": "code",
   "execution_count": 17,
   "metadata": {},
   "outputs": [
    {
     "name": "stdout",
     "output_type": "stream",
     "text": [
      "\n",
      "Optimal Portfolio omega_n (Quantities of Assets):\n",
      "omega_0 = 1865.3718\n",
      "omega_1 = 2.4164\n",
      "omega_2 = 129.7954\n",
      "\n",
      "Verification: A * omega = x_t (Should match the computed x_t)\n",
      "State 0: x_t = 10048.3281, A * omega = 10048.3281\n",
      "State 1: x_t = 9351.0228, A * omega = 9351.0228\n",
      "State 2: x_t = 10624.8131, A * omega = 10624.8131\n",
      "\n",
      "Total portfolio cost: 2000.00 (Jake's Wealth m = 2000)\n"
     ]
    }
   ],
   "source": [
    "# Solve for omega\n",
    "omega = np.linalg.solve(A, solution)\n",
    "\n",
    "print(\"\\nOptimal Portfolio omega_n (Quantities of Assets):\")\n",
    "for n in range(len(omega)):\n",
    "    print(f\"omega_{n} = {omega[n]:.4f}\")\n",
    "\n",
    "# Verify the portfolio generates the desired consumption x_t\n",
    "x_t_check = A.dot(omega)\n",
    "print(\"\\nVerification: A * omega = x_t (Should match the computed x_t)\")\n",
    "for t in range(len(x_t_check)):\n",
    "    print(f\"State {t}: x_t = {solution[t]:.4f}, A * omega = {x_t_check[t]:.4f}\")\n",
    "\n",
    "# Verify the budget constraint with asset prices\n",
    "total_portfolio_cost = np.dot(p, omega)\n",
    "print(f\"\\nTotal portfolio cost: {total_portfolio_cost:.2f} (Jake's Wealth m = {m})\")\n",
    "\n"
   ]
  }
 ],
 "metadata": {
  "kernelspec": {
   "display_name": "base",
   "language": "python",
   "name": "python3"
  },
  "language_info": {
   "codemirror_mode": {
    "name": "ipython",
    "version": 3
   },
   "file_extension": ".py",
   "mimetype": "text/x-python",
   "name": "python",
   "nbconvert_exporter": "python",
   "pygments_lexer": "ipython3",
   "version": "3.11.4"
  }
 },
 "nbformat": 4,
 "nbformat_minor": 2
}
