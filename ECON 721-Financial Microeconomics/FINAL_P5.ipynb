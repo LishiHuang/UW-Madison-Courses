{
 "cells": [
  {
   "cell_type": "code",
   "execution_count": 78,
   "metadata": {},
   "outputs": [],
   "source": [
    "import numpy as np\n",
    "import pandas as pd\n",
    "import matplotlib.pyplot as plt\n",
    "from scipy.optimize import fmin_cobyla\n",
    "from scipy.stats import bernoulli"
   ]
  },
  {
   "cell_type": "markdown",
   "metadata": {},
   "source": [
    "# P5"
   ]
  },
  {
   "cell_type": "markdown",
   "metadata": {},
   "source": [
    "## (a)"
   ]
  },
  {
   "cell_type": "code",
   "execution_count": 79,
   "metadata": {},
   "outputs": [
    {
     "name": "stdout",
     "output_type": "stream",
     "text": [
      "[0.9, 0.75, 0.785, 0.7472]\n"
     ]
    }
   ],
   "source": [
    "\n",
    "p = 0.75\n",
    "N_val = np.array([10, 100, 1000, 10000])\n",
    "shareEmployed = []\n",
    "for N in N_val:\n",
    "    vals = bernoulli.rvs(p, size=N)\n",
    "    shareEmployed.append(sum(vals)/N)\n",
    "\n",
    "print(shareEmployed)"
   ]
  },
  {
   "cell_type": "markdown",
   "metadata": {},
   "source": [
    "## (b)"
   ]
  },
  {
   "cell_type": "code",
   "execution_count": 80,
   "metadata": {},
   "outputs": [
    {
     "name": "stdout",
     "output_type": "stream",
     "text": [
      "[1800, 0, -3600, 10800]\n",
      "[180.0, 0.0, -3.6, 1.08]\n"
     ]
    }
   ],
   "source": [
    "w = 900\n",
    "c = 300\n",
    "totalProfit = []\n",
    "perCapitaProfit = []\n",
    "for N in N_val:\n",
    "    vals = bernoulli.rvs(p, size=N)\n",
    "    numEmployed = sum(vals)\n",
    "    # numUnemployed = sum(1-vals)\n",
    "    numUnemployed = N - numEmployed\n",
    "    totalProfit.append(c*numEmployed - w*numUnemployed)\n",
    "    perCapitaProfit.append((c*numEmployed - w*numUnemployed)/N)\n",
    "\n",
    "print(totalProfit)\n",
    "print(perCapitaProfit)"
   ]
  },
  {
   "cell_type": "markdown",
   "metadata": {},
   "source": [
    "## (c)"
   ]
  },
  {
   "cell_type": "code",
   "execution_count": 81,
   "metadata": {},
   "outputs": [],
   "source": [
    "theta_A = 0.6\n",
    "pi = [0.75, 0.25]\n",
    "\n",
    "# negative of profit\n",
    "def profit(x):\n",
    "    return -(x[0]*pi[0] - x[1]*pi[1])\n",
    "\n",
    "# constraints\n",
    "def u(x):\n",
    "    return pi[0]*((1200-x[0])**(1-theta_A))/(1-theta_A) + pi[1]*(x[1]**(1-theta_A))/(1-theta_A)\n",
    "def U(x):\n",
    "    return u(x) - u([0,0])\n",
    "\n",
    "def c_positive(x):\n",
    "    return x[0]\n",
    "\n",
    "def w_positive(x):\n",
    "    return x[1]\n",
    "\n",
    "solution = fmin_cobyla(profit, [200, 800], [U, c_positive, w_positive], rhoend=1e-7)"
   ]
  },
  {
   "cell_type": "code",
   "execution_count": 82,
   "metadata": {},
   "outputs": [
    {
     "name": "stdout",
     "output_type": "stream",
     "text": [
      "[615.43285302 584.56714927]\n",
      "[3754.3285255970804, 31543.285244550458, 310632.85243636835, 3162728.524471035]\n",
      "[375.43285255970807, 315.4328524455046, 310.63285243636835, 316.2728524471035]\n"
     ]
    }
   ],
   "source": [
    "c = solution[0]\n",
    "w = solution[1]\n",
    "totalProfit = []\n",
    "perCapitaProfit = []\n",
    "for N in N_val:\n",
    "    vals = bernoulli.rvs(p, size=N)\n",
    "    numEmployed = sum(vals)\n",
    "    numUnemployed = N - numEmployed\n",
    "    totalProfit.append(c*numEmployed - w*numUnemployed)\n",
    "    perCapitaProfit.append((c*numEmployed - w*numUnemployed)/N)\n",
    "\n",
    "print(solution)\n",
    "print(totalProfit)\n",
    "print(perCapitaProfit)"
   ]
  },
  {
   "cell_type": "markdown",
   "metadata": {},
   "source": [
    "## (d)"
   ]
  },
  {
   "cell_type": "code",
   "execution_count": 83,
   "metadata": {},
   "outputs": [
    {
     "name": "stdout",
     "output_type": "stream",
     "text": [
      "Plicy from satisfying just A is: [615.43286276 584.5671785 ]\n",
      "Profit from satisfying just A is: 157.71642622275215\n"
     ]
    }
   ],
   "source": [
    "theta_A = 0.6\n",
    "theta_B = 0.85\n",
    "pi = [0.75, 0.25]\n",
    "sa = 0.5\n",
    "sb = 1-sa\n",
    "\n",
    "# negative of profit\n",
    "def profit(x):\n",
    "    return -(x[0]*pi[0] - x[1]*pi[1])\n",
    "\n",
    "# constraints\n",
    "def u_a(x):\n",
    "    return pi[0]*((1200-x[0])**(1-theta_A))/(1-theta_A) + pi[1]*(x[1]**(1-theta_A))/(1-theta_A) \n",
    "def U_A(x):\n",
    "    return u_a(x) - u_a([0,0])\n",
    "\n",
    "def u_b(x):\n",
    "    return pi[0]*((1200-x[0])**(1-theta_B))/(1-theta_B) + pi[1]*(x[1]**(1- theta_B))/(1-theta_B) \n",
    "def U_B(x):\n",
    "    return u_b(x) - u_b([0,0])\n",
    "\n",
    "def c_positive(x):\n",
    "    return x[0]\n",
    "\n",
    "def w_positive(x):\n",
    "    return x[1]\n",
    "\n",
    "solution1 = fmin_cobyla(profit, [300, 900], [U_A, c_positive, w_positive], rhoend=1e-7)\n",
    "profit1 = -1*profit(solution1)*sa\n",
    "print(\"Plicy from satisfying just A is:\", solution1 )\n",
    "print(\"Profit from satisfying just A is:\", profit1 )"
   ]
  },
  {
   "cell_type": "code",
   "execution_count": 84,
   "metadata": {},
   "outputs": [
    {
     "name": "stdout",
     "output_type": "stream",
     "text": [
      "Plicy from satisfying just B is: [1078.50982146  482.31736075]\n",
      "Profit from satisfying just B is: 344.1515129541243\n"
     ]
    }
   ],
   "source": [
    "solution2 = fmin_cobyla(profit, [300, 900], [U_B, c_positive, w_positive], rhoend=1e-7)\n",
    "profit2 = -1*profit(solution2)*sb\n",
    "\n",
    "print(\"Plicy from satisfying just B is:\", solution2 )\n",
    "print(\"Profit from satisfying just B is:\", profit2)"
   ]
  },
  {
   "cell_type": "code",
   "execution_count": 85,
   "metadata": {},
   "outputs": [
    {
     "name": "stdout",
     "output_type": "stream",
     "text": [
      "Plicy from satisfying bith is: [615.43286276 584.5671785 ]\n",
      "Profit from satisfying both A and B is: 315.4328524455043\n"
     ]
    }
   ],
   "source": [
    "solution3 = fmin_cobyla(profit, [300, 900], [U_A, U_B, c_positive, w_positive], rhoend=1e-7)\n",
    "profit3 = -1*profit(solution3)\n",
    "print(\"Plicy from satisfying bith is:\", solution3 )\n",
    "print(\"Profit from satisfying both A and B is:\", profit3)"
   ]
  },
  {
   "cell_type": "markdown",
   "metadata": {},
   "source": [
    "## (e)"
   ]
  },
  {
   "cell_type": "code",
   "execution_count": 86,
   "metadata": {},
   "outputs": [],
   "source": [
    "sbArray = [0, .25, .5, .75, 1]\n",
    "priceArray = np.zeros([5,2])\n",
    "totalProfit = np.zeros(5)\n",
    "\n",
    "for i in range(len(sbArray)):\n",
    "    sb = sbArray[i]\n",
    "    sa = 1-sb\n",
    "    # print(sa, sb)\n",
    "\n",
    "    solution_A = fmin_cobyla(profit, [300, 900], [U_A, c_positive, w_positive], rhoend=1e-7)\n",
    "    profit_A = -1*profit(solution1)*sa\n",
    "\n",
    "    solution_B = fmin_cobyla(profit, [300, 900], [U_B, c_positive, w_positive], rhoend=1e-7)\n",
    "    profit_B = -1*profit(solution2)*sb\n",
    "\n",
    "    solution_Both = fmin_cobyla(profit, [300, 900], [U_A, U_B, c_positive, w_positive], rhoend=1e-7)\n",
    "    profit_Both = -1*profit(solution3)\n",
    "\n",
    "\n",
    "    profits = [profit_A, profit_B, profit_Both]\n",
    "    if np.max(profits) == profit_A:\n",
    "        priceArray[i] = solution_A\n",
    "        totalProfit[i] = profit_A\n",
    "    elif np.max(profits) == profit_B:\n",
    "        priceArray[i] = solution_B\n",
    "        totalProfit[i] = profit_B\n",
    "    else:\n",
    "        priceArray[i] = solution_Both\n",
    "        totalProfit[i] = profit_Both"
   ]
  },
  {
   "cell_type": "code",
   "execution_count": 87,
   "metadata": {},
   "outputs": [
    {
     "data": {
      "image/png": "[encoded data removed]",
      "text/plain": [
       "<Figure size 640x480 with 1 Axes>"
      ]
     },
     "metadata": {},
     "output_type": "display_data"
    },
    {
     "data": {
      "image/png": "[encoded data removed]",
      "text/plain": [
       "<Figure size 640x480 with 1 Axes>"
      ]
     },
     "metadata": {},
     "output_type": "display_data"
    }
   ],
   "source": [
    "plt.scatter(sbArray,[priceArray[0][0], priceArray[1][0], priceArray[2][0],\n",
    "priceArray[3][0],priceArray[4][0]], label= \"W\", lw = 3.0)\n",
    "plt.scatter(sbArray,[priceArray[0][1], priceArray[1][1], priceArray[2][1],\n",
    "priceArray[3][1],priceArray[4][1]], label= \"C\", lw = 3.0)\n",
    "plt.legend(loc=0)\n",
    "plt.show()\n",
    "# when sb is small, service both types so choose low W, high C.\n",
    "# When sb is big, service both types, so choose high W, low C.\n",
    "plt.scatter(sbArray,[totalProfit[0], totalProfit[1], totalProfit[2],\n",
    "totalProfit[3],totalProfit[4]], label= \"Total Profit\", lw = 3.0)\n",
    "plt.show()"
   ]
  },
  {
   "cell_type": "markdown",
   "metadata": {},
   "source": [
    "## (f)"
   ]
  },
  {
   "cell_type": "code",
   "execution_count": 88,
   "metadata": {},
   "outputs": [
    {
     "name": "stdout",
     "output_type": "stream",
     "text": [
      "[-49716800]\n",
      "[-49.7168]\n"
     ]
    }
   ],
   "source": [
    "w = 950\n",
    "c = 250\n",
    "totalProfit = []\n",
    "perCapitaProfit = []\n",
    "N_val = np.array([1000000])\n",
    "for N in N_val:\n",
    "    vals = bernoulli.rvs(p, size=N)\n",
    "    numEmployed = sum(vals)\n",
    "    # numUnemployed = sum(1-vals)\n",
    "    numUnemployed = N - numEmployed\n",
    "    totalProfit.append(c*numEmployed - w*numUnemployed)\n",
    "    perCapitaProfit.append((c*numEmployed - w*numUnemployed)/N)\n",
    "\n",
    "print(totalProfit)\n",
    "print(perCapitaProfit)"
   ]
  }
 ],
 "metadata": {
  "kernelspec": {
   "display_name": "base",
   "language": "python",
   "name": "python3"
  },
  "language_info": {
   "codemirror_mode": {
    "name": "ipython",
    "version": 3
   },
   "file_extension": ".py",
   "mimetype": "text/x-python",
   "name": "python",
   "nbconvert_exporter": "python",
   "pygments_lexer": "ipython3",
   "version": "3.11.4"
  }
 },
 "nbformat": 4,
 "nbformat_minor": 2
}
