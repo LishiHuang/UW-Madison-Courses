{
 "cells": [
  {
   "cell_type": "code",
   "execution_count": 1,
   "id": "dd5c3916-4f39-46dd-8067-ebe33bb333d9",
   "metadata": {},
   "outputs": [],
   "source": [
    "import numpy as np\n",
    "import scipy.optimize as sp\n",
    "import QuantLib as ql\n",
    "import yfinance as yf\n",
    "import datetime"
   ]
  },
  {
   "cell_type": "code",
   "execution_count": 4,
   "id": "767233ac-5e7d-4ab2-806f-b9e17e74f984",
   "metadata": {},
   "outputs": [],
   "source": [
    "alpha = 0.3\n",
    "beta = 0.04\n",
    "gamma = 0.02\n",
    "r0 = 0.054\n",
    "F=1\n",
    "T_bond=5#maturity of t-bill\n",
    "n_coup=10#number of coupons paid by this t-bill"
   ]
  },
  {
   "cell_type": "code",
   "execution_count": 16,
   "id": "03596a41-0040-4f95-bdb8-5184cab130ee",
   "metadata": {},
   "outputs": [],
   "source": [
    "def P0_vasicek(rt,t,T):\n",
    "    A_t_T=1/alpha*(1-np.exp(-alpha*(T-t)))\n",
    "    B_t_T=(beta-beta**2/2/alpha**2)*(A_t_T-(T-t))-gamma**2*A_t_T**2/4/alpha\n",
    "    P_t_T=np.exp(-rt*A_t_T+B_t_T)\n",
    "    y_t_T=-np.log(P_t_T)/(T-t)\n",
    "    # print(rt,A_t_T,B_t_T,P_t_T,y_t_T)\n",
    "    return P_t_T\n",
    "\n",
    "def Pc_vasicek(F,rt,t,T,y,n):\n",
    "    # print(y)\n",
    "    val=F*P0_vasicek(rt,t,T)#final payment with discount\n",
    "    for i in range(t+1,n+1):\n",
    "        val+=y*F*P0_vasicek(rt,t,i*T/n)\n",
    "    return val"
   ]
  },
  {
   "cell_type": "code",
   "execution_count": 17,
   "id": "1a43cbe0",
   "metadata": {},
   "outputs": [
    {
     "data": {
      "text/plain": [
       "0.04419963749443983"
      ]
     },
     "execution_count": 17,
     "metadata": {},
     "output_type": "execute_result"
    }
   ],
   "source": [
    "\n",
    "simulate_yield_vasicek= sp.newton(lambda y:Pc_vasicek(1,r0,0,T_bond,y,n_coup)-F,0.05)\n",
    "r_simulated=simulate_yield_vasicek*2"
   ]
  },
  {
   "cell_type": "code",
   "execution_count": 25,
   "id": "1dc1534e",
   "metadata": {},
   "outputs": [],
   "source": [
    "face=100000; T_frwd=1; N=10000; h=0.001;T_call=1\n",
    "np.random.seed(N)"
   ]
  },
  {
   "cell_type": "code",
   "execution_count": 90,
   "id": "a1ff3da1",
   "metadata": {},
   "outputs": [
    {
     "data": {
      "text/plain": [
       "0.050736422170673146"
      ]
     },
     "execution_count": 90,
     "metadata": {},
     "output_type": "execute_result"
    }
   ],
   "source": [
    "r_list=[]\n",
    "for n in range(N):\n",
    "    k = int(T_frwd/h+1)\n",
    "    r_t = [r0] * k\n",
    "    Z = np.random.normal(0,1,k-1)\n",
    "    for i in range(1,k):\n",
    "        r_t[i] = r_t[i-1] + alpha * (beta - r_t[i-1])*h + gamma*np.sqrt(h)*Z[i-1]\n",
    "    r_list.append(r_t[-1])\n",
    "r_hat=np.mean(r_list)\n",
    "r_hat"
   ]
  },
  {
   "cell_type": "code",
   "execution_count": 93,
   "id": "ee87c161",
   "metadata": {},
   "outputs": [
    {
     "name": "stderr",
     "output_type": "stream",
     "text": [
      "C:\\Users\\Julia\\AppData\\Local\\Temp\\ipykernel_20960\\2155808784.py:5: RuntimeWarning: invalid value encountered in scalar divide\n",
      "  y_t_T=-np.log(P_t_T)/(T-t)\n"
     ]
    },
    {
     "data": {
      "text/plain": [
       "(121451.67704308179, 115067.21821910307)"
      ]
     },
     "execution_count": 93,
     "metadata": {},
     "output_type": "execute_result"
    }
   ],
   "source": [
    "note=face* P0_vasicek(r_hat,t=1,T=6)\n",
    "for i in range(3,11):\n",
    "    coupon=r_hat*face*P0_vasicek(r_hat,3,i/2)\n",
    "    note+=coupon\n",
    "NOTE_PV=note*np.exp(-r0*1)\n",
    "note,NOTE_PV"
   ]
  },
  {
   "cell_type": "code",
   "execution_count": 103,
   "id": "731c0829",
   "metadata": {},
   "outputs": [],
   "source": [
    "def MCVasicekCall(F, K, Tc, Tb, n_coup, h, N):\n",
    "    np.random.seed(2024)  # Set random seed for reproducibility\n",
    "    bond_P = []  # List to store bond prices\n",
    "    for n in range(N):\n",
    "        k = int(Tc / h + 1)  # Number of time steps\n",
    "        r_t = [r0] * k  # Initialize the short-term interest rate path\n",
    "        Z = np.random.normal(0, 1, k - 1)  # Generate random normal variables\n",
    "        for i in range(1, k):\n",
    "            r_t[i] = r_t[i - 1] + alpha * (beta - r_t[i - 1]) * h + gamma * np.sqrt(h) * Z[i - 1]  # Update short-term interest rate path\n",
    "        r_hat = np.mean(r_t)\n",
    "        # print(r_hat)# Calculate the average short-term interest rate\n",
    "        # Calculate bond price at Tc and apply discount factor\n",
    "        bond_price = max(0, Pc_vasicek(F, r_t[-1], Tc, Tb, simulate_yield_vasicek*2, n_coup) - K) * np.exp(-r_hat * Tc)\n",
    "        # print(bond_price)\n",
    "        bond_P.append( bond_price)  # Append the bond price to the list\n",
    "    return bond_P\n"
   ]
  },
  {
   "cell_type": "code",
   "execution_count": 104,
   "id": "34a75d6f",
   "metadata": {},
   "outputs": [
    {
     "name": "stderr",
     "output_type": "stream",
     "text": [
      "C:\\Users\\Julia\\AppData\\Local\\Temp\\ipykernel_20960\\2155808784.py:5: RuntimeWarning: invalid value encountered in scalar divide\n",
      "  y_t_T=-np.log(P_t_T)/(T-t)\n"
     ]
    }
   ],
   "source": [
    "call_series=MCVasicekCall(F,note,T_call,T_bond,n_coup,h,N)\n",
    "price=np.mean(call_series)\n",
    "price_std=np.std(call_series)"
   ]
  },
  {
   "cell_type": "code",
   "execution_count": 106,
   "id": "ca7f05db",
   "metadata": {},
   "outputs": [
    {
     "name": "stdout",
     "output_type": "stream",
     "text": [
      "Mean Price:368.7354722205034\n",
      "Std Price:1137.6959680091113\n",
      "For 10000 simulations: 95% Confidence Interval = (346.4370, 391.0339)\n"
     ]
    }
   ],
   "source": [
    "from scipy.stats import norm\n",
    "def confidence_interval(mean, std, n):\n",
    "    z = norm.ppf(0.975)  # 95% confidence interval\n",
    "    margin_error = z * (std / np.sqrt(n))\n",
    "    lower_bound = mean - margin_error\n",
    "    upper_bound = mean + margin_error\n",
    "    return lower_bound, upper_bound\n",
    "lower_bound, upper_bound = confidence_interval(price, price_std, 10000)\n",
    "print(f\"Mean Price:{price}\\nStd Price:{price_std}\\nFor {N} simulations: 95% Confidence Interval = ({lower_bound:.4f}, {upper_bound:.4f})\")"
   ]
  }
 ],
 "metadata": {
  "kernelspec": {
   "display_name": "Python 3 (ipykernel)",
   "language": "python",
   "name": "python3"
  },
  "language_info": {
   "codemirror_mode": {
    "name": "ipython",
    "version": 3
   },
   "file_extension": ".py",
   "mimetype": "text/x-python",
   "name": "python",
   "nbconvert_exporter": "python",
   "pygments_lexer": "ipython3",
   "version": "3.11.4"
  }
 },
 "nbformat": 4,
 "nbformat_minor": 5
}
