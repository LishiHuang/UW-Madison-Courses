{
 "cells": [
  {
   "cell_type": "code",
   "execution_count": 1,
   "metadata": {},
   "outputs": [
    {
     "name": "stderr",
     "output_type": "stream",
     "text": [
      "c:\\Users\\Julia\\anaconda3\\Lib\\site-packages\\pandas\\core\\arrays\\masked.py:60: UserWarning: Pandas requires version '1.3.6' or newer of 'bottleneck' (version '1.3.5' currently installed).\n",
      "  from pandas.core import (\n"
     ]
    }
   ],
   "source": [
    "import numpy as np\n",
    "import pandas as pd\n",
    "import scipy.optimize as sp\n",
    "import scipy.stats as st\n",
    "import QuantLib as ql\n",
    "import yfinance as yf\n",
    "import datetime as dt\n",
    "# from fredapi import Fred\n",
    "import quandl"
   ]
  },
  {
   "cell_type": "markdown",
   "metadata": {},
   "source": [
    "PART 1: Set up 10-year SP500 historical data; volatility and risk-free rate at present"
   ]
  },
  {
   "cell_type": "code",
   "execution_count": 2,
   "metadata": {},
   "outputs": [
    {
     "name": "stdout",
     "output_type": "stream",
     "text": [
      "[*********************100%%**********************]  1 of 1 completed"
     ]
    },
    {
     "name": "stderr",
     "output_type": "stream",
     "text": [
      "c:\\Users\\Julia\\anaconda3\\Lib\\site-packages\\yfinance\\utils.py:771: FutureWarning: The 'unit' keyword in TimedeltaIndex construction is deprecated and will be removed in a future version. Use pd.to_timedelta instead.\n",
      "  df.index += _pd.TimedeltaIndex(dst_error_hours, 'h')\n"
     ]
    },
    {
     "name": "stdout",
     "output_type": "stream",
     "text": [
      "\n",
      "volatility=17.80%, Rate at 2024-01-01 00:00:00=4.01%\n"
     ]
    },
    {
     "name": "stderr",
     "output_type": "stream",
     "text": [
      "C:\\Users\\Julia\\AppData\\Local\\Temp\\ipykernel_23396\\214503704.py:17: DeprecationWarning: Conversion of an array with ndim > 0 to a scalar is deprecated, and will error in future. Ensure you extract a single element from your array before performing this operation. (Deprecated NumPy 1.25.)\n",
      "  current_rate = float(treasury_history.iloc[-1].values)\n"
     ]
    }
   ],
   "source": [
    "#set up the start and end date\n",
    "start_date = dt.datetime(2024, 1, 1) - dt.timedelta(days=10*365)\n",
    "end_date = dt.datetime(2024, 1, 1) \n",
    "# get sp500 data\n",
    "sp500_data = yf.download('^GSPC', start=start_date, end=end_date)\n",
    "sp500 = sp500_data['Close'].values\n",
    "\n",
    "# ! take the interest rate of 2024.01.01\n",
    "\n",
    "#get the 3 year treasury rate\n",
    "# api_key = \"ff0cc3c956ef0838181b3d1603e8ce98\"\n",
    "# fred = Fred(api_key=api_key)\n",
    "# treasury_3yr = fred.get_series('GS3', frequency='m',start_date=start_date, end_date=end_date)\n",
    "quandl.ApiConfig.api_key = '19PYgzG1hHNM7wZyy6NF' \n",
    "treasury_history = quandl.get(\"USTREASURY/YIELD.7\", start_date=start_date, end_date=end_date, column_index=1)/100\n",
    "# print(treasury_history)\n",
    "current_rate = float(treasury_history.iloc[-1].values)\n",
    "\n",
    "# calculate the volatility and log returns\n",
    "log_returns = np.log(sp500[1:] / sp500[:-1])  # Compute log returns using array operations\n",
    "volatility = np.sqrt(252)*np.std(log_returns)\n",
    "print(f\"volatility={volatility:.2%}, Rate at {end_date}={current_rate:.2%}\")"
   ]
  },
  {
   "cell_type": "markdown",
   "metadata": {},
   "source": [
    "PART 2: Define the Superclass \"BullSpread\" , which contain basic information Black-Scholes Model methods (Pricing; Delta Hedging)\n",
    " "
   ]
  },
  {
   "cell_type": "code",
   "execution_count": 3,
   "metadata": {},
   "outputs": [],
   "source": [
    "class BullSpread:\n",
    "    def __init__(self, S, g, G, r, t,T, sigma,L):\n",
    "        self.S0 = S  # undelying\n",
    "        self.contract = L / S\n",
    "        self.S = self.S0 * self.contract\n",
    "        self.r = r  # risk-free rate\n",
    "        self.t = t\n",
    "        self.T = T  # expiration time\n",
    "        self.Term = T-t\n",
    "        self.sigma = sigma  # volatility\n",
    "        self.K1 = (1+g)**(self.Term)*L # low strike price\n",
    "        self.K2 = (1+G)**(self.Term)*L # high strike price\n",
    "        self.discount = np.exp(-self.r * self.Term)\n",
    "        self.g = g\n",
    "        self.G = G\n",
    "        self.L = L\n",
    "        # print(f\"K1={self.K1},K2={self.K2},S={self.S}\")\n",
    "\n",
    "    def black_scholes_call_price(self, K):\n",
    "        d1 = (np.log(self.S / K) + (self.r + 0.5 * self.sigma**2) * self.Term) / (self.sigma * np.sqrt(self.Term))\n",
    "        d2 = d1 - self.sigma * np.sqrt(self.Term)\n",
    "        call_price =  self.S * st.norm.cdf(d1) - self.discount * K * np.exp(-self.r * self.T) * st.norm.cdf(d2)\n",
    "        return call_price\n",
    "    \n",
    "    def black_scholes_call_delta(self, K,contract):\n",
    "        d1 = (np.log(self.S0 * contract / K) + (self.r + 0.5 * self.sigma**2) * self.Term) / (self.sigma * np.sqrt(self.Term))\n",
    "        # print(f\"d1={d1},S={self.S},K={K},r={self.r},sigma={self.sigma},Term={self.Term}\")\n",
    "        call_delta = st.norm.cdf(d1)\n",
    "        # print(f\"call_delta={call_delta}\")\n",
    "        return call_delta\n",
    "\n",
    "    def bull_spread_price(self):\n",
    "        call_price_K1 = self.black_scholes_call_price(self.K1)\n",
    "        call_price_K2 = self.black_scholes_call_price(self.K2)\n",
    "        # print(f\"call_price_K1={call_price_K1},call_price_K2={call_price_K2}\")\n",
    "        bull_spread_price = self.discount * self.K1 + call_price_K1 - call_price_K2\n",
    "        return bull_spread_price\n",
    "    \n",
    "    def bull_spread_delta(self,contract):\n",
    "        call_delta_K1 = self.black_scholes_call_delta(self.K1,contract)\n",
    "        call_delta_K2 = self.black_scholes_call_delta(self.K2,contract)\n",
    "        # print(f\"call_delta_K1={call_delta_K1},call_delta_K2={call_delta_K2}\")\n",
    "        bull_spread_delta = call_delta_K1 - call_delta_K2\n",
    "        return bull_spread_delta\n",
    "    \n",
    "    def Delta_Hedge(self, St):\n",
    "    # Initial values\n",
    "        D0=self.bull_spread_delta(self.contract)\n",
    "        dt=self.Term/len(St)\n",
    "        Fund = [self.L]\n",
    "        Delta = [D0]\n",
    "        Bank = [self.L-D0*self.S]\n",
    "        for i in range(1,len(St)):\n",
    "            Fund = np.append(Fund,Bank[i-1]*np.exp(self.r*dt)+Delta[i-1]*St[i]*self.contract) # update fund, St now starts with S0\n",
    "            tempory_option=BullSpread(St[i], self.g, self.G, self.r,i*dt,self.T, self.sigma, self.L)\n",
    "            new_delta=tempory_option.bull_spread_delta(self.contract)\n",
    "            Delta = np.append(Delta,new_delta) # update delta at the rebalance day\n",
    "            Bank = np.append(Bank,Fund[i]-Delta[i]*St[i]*self.contract) # update bank account\n",
    "        # print(f\"tempory_option={tempory_option.Term}\")\n",
    "        # print(f\"Bank={Bank[-1]},Delta={Delta[-1]},St={len(St)}\")\n",
    "        Fund_T = Bank[-1]*np.exp(self.r*dt)+Delta[-1]*St[-1]*self.contract\n",
    "        return (Fund_T-max(min(self.K2,St[-1]*self.contract),self.K1))\n"
   ]
  },
  {
   "cell_type": "markdown",
   "metadata": {},
   "source": [
    "PART 3: Define the subclass \"VasicekBullSpread\" which contains special information and method from Vasicek model (Pricing; Delta Hedging)"
   ]
  },
  {
   "cell_type": "code",
   "execution_count": 4,
   "metadata": {
    "notebookRunGroups": {
     "groupValue": "2"
    }
   },
   "outputs": [],
   "source": [
    "class VasicekBullSpread(BullSpread):\n",
    "    def __init__(self, S, g, G, r, t, T, sigma, L, alpha, beta, gamma,rho):\n",
    "        super().__init__(S, g, G, r, t, T, sigma, L)\n",
    "        self.alpha = alpha\n",
    "        self.beta = beta\n",
    "        self.gamma = gamma\n",
    "        self.rho = rho\n",
    "        self.A_t_T = 1/self.alpha*(1-np.exp(-self.alpha*self.Term))\n",
    "        self.B_t_T = (self.beta-self.beta**2/2/self.alpha**2)*(self.A_t_T-self.Term)-self.gamma**2*self.A_t_T**2/4/self.alpha\n",
    "        self.G_t_T = self.gamma/(self.alpha*np.sqrt(self.Term-self.A_t_T-self.alpha*self.A_t_T**2/2))\n",
    "        self.vol = self.sigma**2 + self.G_t_T**2 - 2 * self.rho * self.sigma * self.G_t_T\n",
    "        self.C_t_T = self.beta * self.Term + (self.r -self.beta) *self.A_t_T\n",
    "        self.P_t_T = np.exp(-self.r*self.A_t_T+self.B_t_T)\n",
    "        self.Fv = -self.Term * self.K1 * np.exp(-self.r*self.Term)\n",
    "        self.Pv = -self.A_t_T * np.exp(-self.r*self.A_t_T+self.B_t_T)\n",
    "        self.rho_i = self.Fv/self.Pv\n",
    "        # print(f\"self.alpha={self.alpha},self.beta={self.beta},self.gamma={self.gamma},self.rho={self.rho}\")\n",
    "        # print(f\"A_t_T={self.A_t_T},B_t_T={self.B_t_T},G_t_T={self.G_t_T},vol={self.vol},C_t_T={self.C_t_T},P_t_T={self.P_t_T}\")\n",
    "        \n",
    "    def vasicek_call_price(self, K):\n",
    "        d1 = (np.log(self.S / K) + self.C_t_T - 0.5 * self.vol *self.Term) / (self.sigma * np.sqrt(self.Term))+np.sqrt(self.vol)*self.Term\n",
    "        d2 = (np.log(self.S / K) + self.C_t_T - 0.5 * self.vol *self.Term) / (self.sigma * np.sqrt(self.Term))+self.G_t_T*self.Term\n",
    "        # print(f\"d1={d1},d2={d2}\")\n",
    "        call_price = self.S * st.norm.cdf(d1) -  K * self.P_t_T * st.norm.cdf(d2)\n",
    "        return call_price\n",
    "    \n",
    "    def bull_spread_Vasicek_price(self):\n",
    "        call_price_K1 = self.vasicek_call_price(self.K1)\n",
    "        call_price_K2 = self.vasicek_call_price(self.K2)\n",
    "        bull_spread_price = self.discount * self.K1 + call_price_K1 - call_price_K2\n",
    "        return bull_spread_price\n",
    "    \n",
    "    def Vasicek_call_delta(self, K, contract):\n",
    "        d1 = (np.log(self.S0 * contract / K) + self.C_t_T - 0.5 * self.vol *self.Term) / (self.sigma * np.sqrt(self.Term))+np.sqrt(self.vol)*self.Term\n",
    "        call_delta = st.norm.cdf(d1)\n",
    "        return call_delta\n",
    "    \n",
    "    def Vasicek_call_rho(self, K ,contract):\n",
    "        d2 = (np.log(self.S0 * contract / K) + self.C_t_T - 0.5 * self.vol *self.Term) / (self.sigma * np.sqrt(self.Term))+self.Term*self.G_t_T\n",
    "        call_rho = st.norm.cdf(d2)\n",
    "        return call_rho\n",
    "    \n",
    "    def Vasicek_bull_spread_delta(self,contract):\n",
    "        call_delta_K1 = self.black_scholes_call_delta(self.K1,contract)\n",
    "        call_delta_K2 = self.black_scholes_call_delta(self.K2,contract)\n",
    "        # print(f\"call_delta_K1={call_delta_K1},call_delta_K2={call_delta_K2}\")\n",
    "        bull_spread_delta = call_delta_K1 - call_delta_K2\n",
    "        return bull_spread_delta\n",
    "    \n",
    "    def Vasicek_bull_spread_rho(self,contract):\n",
    "        call_rho_K1 = self.Vasicek_call_rho(self.K1,contract)\n",
    "        call_rho_K2 = self.Vasicek_call_rho(self.K2,contract)\n",
    "        # bull_spread_rho = call_rho_K1 - call_rho_K2\n",
    "        # print(f\"call_rho_K1={call_rho_K1},call_rho_K2={call_rho_K2}\")\n",
    "        return call_rho_K1, call_rho_K2\n",
    "    \n",
    "    def Delta_Hedge_Vasicek(self, St):\n",
    "    # Initial values\n",
    "        D0=self.Vasicek_bull_spread_delta(self.contract)\n",
    "        dt=self.Term/len(St)\n",
    "        Fund = [self.L]\n",
    "        Delta = [D0]\n",
    "        Bank = [self.L-D0*self.S]\n",
    "        for i in range(1,len(St)):\n",
    "            Fund = np.append(Fund,Bank[i-1]*np.exp(self.r*dt)+Delta[i-1]*St[i]*self.contract) # update fund, St now starts with S0\n",
    "            tempory_option=VasicekBullSpread(St[i], self.g, self.G, self.r,i*dt,self.T, self.sigma, self.L,self.alpha,self.beta,self.gamma,self.rho)\n",
    "            new_delta=tempory_option.Vasicek_bull_spread_delta(self.contract)\n",
    "            Delta = np.append(Delta,new_delta) # update delta at the rebalance day\n",
    "            Bank = np.append(Bank,Fund[i]-Delta[i]*St[i]*self.contract) # update bank account\n",
    "        # print(f\"Bank={Bank[-1]},Delta={Delta[-1]}\")\n",
    "        Fund_T = Bank[-1]*np.exp(self.r*dt)+Delta[-1]*St[-1]*self.contract\n",
    "        return (Fund_T-max(min(self.K2,St[-1]*self.contract),self.K1))\n",
    "    \n",
    "    def Rho_Hedge_Vasicek(self, St, Rt):\n",
    "        Rho1_0,Rho2_0=self.Vasicek_bull_spread_rho(self.contract)\n",
    "        # print(f\"Rho1_0={Rho1_0},Rho2_0={Rho2_0}\")\n",
    "        dt=self.Term/len(St)\n",
    "        Fund = [self.L]\n",
    "        Rho1 = [Rho1_0]\n",
    "        Rho2 = [Rho2_0]\n",
    "        Rho_future = [self.rho_i]\n",
    "        Bank = [\n",
    "        self.L - (\n",
    "        Rho1_0 * self.K1 * self.P_t_T -  # hedge the long call option\n",
    "        Rho2_0 * self.K2 * self.P_t_T +  # hedge the short call option\n",
    "        Rho_future[0] * self.P_t_T)]         # hedge the future\n",
    "        # print(f\"Bank={Bank[-1]}\")\n",
    "        for i in range(1,len(Rt)):\n",
    "            #!this should not use Rt[i] list but calculate another r that is between (t,T)\n",
    "            tempory_option=VasicekBullSpread(St[i], self.g, self.G, Rt[i],i*dt,self.T, self.sigma, self.L,self.alpha,self.beta,self.gamma,self.rho) \n",
    "            interest_capital = Bank[i-1]*np.exp(Rt[i-1]*dt)                                # pay for interest rate\n",
    "            call_option_long_hedge_capital = Rho1[i-1] * tempory_option.P_t_T * self.K1  # from long option rho hedge\n",
    "            call_option_short_hedge_captital = Rho2[i-1] * tempory_option.P_t_T * self.K2   # the short position rho hedge\n",
    "            future_hedge_capital = tempory_option.P_t_T * Rho_future[i-1]                     # the future rho hedge\n",
    "            net_capital = interest_capital + call_option_long_hedge_capital - call_option_short_hedge_captital+future_hedge_capital\n",
    "            # print(f\"interest_income={interest_income},call_option_long_hedge_income={call_option_long_hedge_income},call_option_short_hedge_loss={call_option_short_hedge_loss},future_hedge_income={future_hedge_income},net_income={net_income}\")\n",
    "            Fund = np.append(Fund, net_capital)        \n",
    "            new_rho=tempory_option.Vasicek_bull_spread_rho(self.contract)\n",
    "            # print(f\"new_rho={new_rho},tempory option P_t_T={tempory_option.P_t_T}\")\n",
    "            Rho1 = np.append(Rho1, new_rho[0]) \n",
    "            Rho2 = np.append(Rho2, new_rho[1])# update delta at the rebalance day\n",
    "            Rho_future = np.append(Rho_future, tempory_option.rho_i) # update bank account\n",
    "            call_option_long_hedge_c2 = Rho1[i] * tempory_option.P_t_T * self.K1\n",
    "            call_option_short_hedge_c2 = Rho2[i] * tempory_option.P_t_T * self.K2\n",
    "            future_hedge_capital_c2 = tempory_option.P_t_T * Rho_future[i]\n",
    "            net_c2_from_hedge = call_option_long_hedge_c2 - call_option_short_hedge_c2 + future_hedge_capital_c2\n",
    "            Bank = np.append(Bank,Fund[i]-net_c2_from_hedge)     #pkus the short position\n",
    "        # for bank_value in Bank:\n",
    "        #     print(f\"Bank={bank_value:.2f}\")\n",
    "        \n",
    "        BankT=Bank[-1]*np.exp(Rt[-1]*dt)           #bank account\n",
    "        Option1_T=Rho1[-1]*tempory_option.P_t_T*self.K1      #long position\n",
    "        Option2_t=Rho2[-1]*tempory_option.P_t_T*self.K2      #short position\n",
    "        Future_T=tempory_option.P_t_T*tempory_option.rho_i  #future\n",
    "        Fund_T = BankT+Option1_T-Option2_t+Future_T\n",
    "        # print(f\"Bank={Bank[-1]}, Rho1={Rho1[-1]},Rho2={Rho2[-1]},Rho_future={Rho_future[-1]}\")\n",
    "        # print(f\"Fund_T={Fund_T}\")\n",
    "        X=max(min(self.K2,St[-1]*self.contract),self.K1)\n",
    "        return Fund_T-X\n",
    "    \n",
    "    def DeltaRho_Hedge_Vasicek(self, St, Rt):\n",
    "        Rho1_0,Rho2_0=self.Vasicek_bull_spread_rho(self.contract)\n",
    "        D0=self.Vasicek_bull_spread_delta(self.contract)\n",
    "        # print(f\"Rho1_0={Rho1_0},Rho2_0={Rho2_0}\")\n",
    "        dt=1/252\n",
    "        Fund = [self.L]\n",
    "        Rho1 = [Rho1_0]\n",
    "        Rho2 = [Rho2_0]\n",
    "        Delta = [D0]\n",
    "        Rho_future = [self.rho_i]\n",
    "        Bank = [\n",
    "        self.L - (\n",
    "        D0*self.S+                       # delta hedge\n",
    "        Rho1_0 * self.K1 * self.P_t_T -  # hedge the long call option\n",
    "        Rho2_0 * self.K2 * self.P_t_T +  # hedge the short call option\n",
    "        Rho_future[0] * self.P_t_T)]         # hedge the future\n",
    "        # print(f\"Bank={Bank[-1]}\")\n",
    "        for i in range(1,len(Rt)):\n",
    "            #!this should not use Rt[i] list but calculate another r that is between (t,T)\n",
    "            # to simplify the calculation, we use the historical 3-year rate Rt\n",
    "            tempory_option=VasicekBullSpread(St[i], self.g, self.G, Rt[i],i*dt,self.T, self.sigma, self.L,self.alpha,self.beta,self.gamma,self.rho) \n",
    "            interest_capital = Bank[i-1]*np.exp(Rt[i-1]*dt)                                # pay for interest rate\n",
    "            call_option_long_hedge_capital = Rho1[i-1] * tempory_option.P_t_T * self.K1  # from long option rho hedge\n",
    "            call_option_short_hedge_captital = Rho2[i-1] * tempory_option.P_t_T * self.K2   # the short position rho hedge\n",
    "            future_hedge_capital = tempory_option.P_t_T * Rho_future[i-1]                     # the future rho hedge\n",
    "            delta_capital = St[i]*self.contract * Delta[i-1]\n",
    "            net_income = interest_capital + call_option_long_hedge_capital - call_option_short_hedge_captital+future_hedge_capital + delta_capital\n",
    "            # print(f\"interest_income={interest_income},call_option_long_hedge_income={call_option_long_hedge_income},call_option_short_hedge_loss={call_option_short_hedge_loss},future_hedge_income={future_hedge_income},net_income={net_income}\")\n",
    "            Fund = np.append(Fund, net_income)        \n",
    "            new_rho=tempory_option.Vasicek_bull_spread_rho(self.contract)\n",
    "            Rho1 = np.append(Rho1, new_rho[0]) \n",
    "            Rho2 = np.append(Rho2, new_rho[1])# update delta at the rebalance day\n",
    "            Rho_future = np.append(Rho_future, tempory_option.rho_i) # update bank account\n",
    "            Delta = np.append(Delta,tempory_option.Vasicek_bull_spread_delta(self.contract))\n",
    "            call_option_long_hedge_c2 = Rho1[i] * tempory_option.P_t_T * self.K1\n",
    "            call_option_short_hedge_c2 = Rho2[i] * tempory_option.P_t_T * self.K2\n",
    "            future_hedge_capital_c2 = tempory_option.P_t_T * Rho_future[i]\n",
    "            delta_capital_c2 = St[i] * self.contract * Delta[i]\n",
    "            net_c2_from_hedge = call_option_long_hedge_c2 - call_option_short_hedge_c2 + future_hedge_capital_c2+delta_capital_c2\n",
    "            Bank = np.append(Bank,Fund[i]-net_c2_from_hedge)     #pkus the short position\n",
    "        # print(f\"Bank={Bank[-1]},Fund={Fund[-1]}\")\n",
    "        # for bank_value in Bank:\n",
    "        #     print(f\"Bank={bank_value:.2f}\")\n",
    "        BankT=Bank[-1]*np.exp(Rt[-1]*dt)           #bank account\n",
    "        Option1_T=Rho1[-1]*tempory_option.P_t_T*self.K1      #long position\n",
    "        Option2_t=Rho2[-1]*tempory_option.P_t_T*self.K2      #short position\n",
    "        Future_T=tempory_option.P_t_T*tempory_option.rho_i  #future\n",
    "        Delta_T=Delta[-1]*St[-1]*self.contract\n",
    "        Fund_T = BankT+Option1_T-Option2_t+Future_T+Delta_T\n",
    "        X=max(min(self.K2,St[-1]*self.contract),self.K1)\n",
    "        print(\"X=\",X)\n",
    "        return Fund_T-X"
   ]
  },
  {
   "cell_type": "markdown",
   "metadata": {},
   "source": [
    "Part 4: g-G estimating (Based on BS model)"
   ]
  },
  {
   "cell_type": "code",
   "execution_count": 5,
   "metadata": {},
   "outputs": [
    {
     "name": "stdout",
     "output_type": "stream",
     "text": [
      "g=0.00%, G=7.27%\n",
      "g=0.50%, G=6.92%\n",
      "g=1.00%, G=6.57%\n",
      "g=1.50%, G=6.20%\n",
      "g=2.00%, G=5.81%\n",
      "g=-0.50%, G=7.60%\n",
      "g=-1.00%, G=7.93%\n",
      "g=-1.50%, G=8.24%\n",
      "g=-2.00%, G=8.54%\n"
     ]
    }
   ],
   "source": [
    "T=3\n",
    "np.random.seed(2000)\n",
    "S0 = sp500[-1]  # underlying price\n",
    "L = 200000\n",
    "start=0\n",
    "\n",
    "g_list=[0, 0.005,0.01, 0.015,0.02,-0.005,-0.01,-0.015,-0.02]\n",
    "G_list_BS=[]\n",
    "for g in g_list:\n",
    "    simulated_G= sp.newton(lambda G:BullSpread(S0, g, G, current_rate, start, T, volatility, L).bull_spread_price()-L,g,tol=1e-8)\n",
    "    G_list_BS.append(simulated_G)\n",
    "    print(f\"g={g:.2%}, G={simulated_G:.2%}\")"
   ]
  },
  {
   "cell_type": "markdown",
   "metadata": {},
   "source": [
    "PART 5: Past 3-year delta hedging (Based on BS model)"
   ]
  },
  {
   "cell_type": "code",
   "execution_count": 6,
   "metadata": {},
   "outputs": [
    {
     "name": "stdout",
     "output_type": "stream",
     "text": [
      "[*********************100%%**********************]  1 of 1 completed"
     ]
    },
    {
     "name": "stderr",
     "output_type": "stream",
     "text": [
      "c:\\Users\\Julia\\anaconda3\\Lib\\site-packages\\yfinance\\utils.py:771: FutureWarning: The 'unit' keyword in TimedeltaIndex construction is deprecated and will be removed in a future version. Use pd.to_timedelta instead.\n",
      "  df.index += _pd.TimedeltaIndex(dst_error_hours, 'h')\n"
     ]
    },
    {
     "name": "stdout",
     "output_type": "stream",
     "text": [
      "\n",
      "Rate at 2021-01-01 00:00:00: 0.16%\n",
      " g=0.00%, G=0.36%\n",
      "Delta hedged results=$-665.91\n"
     ]
    },
    {
     "name": "stderr",
     "output_type": "stream",
     "text": [
      "C:\\Users\\Julia\\AppData\\Local\\Temp\\ipykernel_23396\\4247143785.py:8: DeprecationWarning: Conversion of an array with ndim > 0 to a scalar is deprecated, and will error in future. Ensure you extract a single element from your array before performing this operation. (Deprecated NumPy 1.25.)\n",
      "  rate_2021 = float(treasury_3yr.iloc[0].values)\n"
     ]
    }
   ],
   "source": [
    "# set up new start and end dates\n",
    "start_date = dt.datetime(2021, 1, 1)\n",
    "end_date = dt.datetime(2023, 12, 31)\n",
    "# get 3 year sp500 data\n",
    "sp500_3y = yf.download('^GSPC', start=start_date, end=end_date)\n",
    "sp500_3y = sp500_3y['Close'].values\n",
    "treasury_3yr = quandl.get(\"USTREASURY/YIELD.7\", start_date=start_date, end_date=end_date, column_index=1)/100\n",
    "rate_2021 = float(treasury_3yr.iloc[0].values)\n",
    "\n",
    "S0=sp500_3y[0]\n",
    "BS_G_offical= sp.newton(lambda G:BullSpread(S0, 0, G, rate_2021, start, T, volatility, L).bull_spread_price()-L,g,tol=1e-8)\n",
    "print(f\"Rate at {start_date}: {rate_2021:.2%}\\n g={0:.2%}, G={BS_G_offical:.2%}\")\n",
    "\n",
    "BS_option=BullSpread(S0, 0, BS_G_offical, rate_2021,start, T, volatility, L)\n",
    "delta_hedge_results=BS_option.Delta_Hedge(sp500_3y)\n",
    "print(f\"Delta hedged results=${delta_hedge_results:.2f}\")"
   ]
  },
  {
   "cell_type": "markdown",
   "metadata": {},
   "source": [
    "PART 6: g-G estimating (Based on Vasicek Model)"
   ]
  },
  {
   "cell_type": "code",
   "execution_count": 7,
   "metadata": {},
   "outputs": [
    {
     "name": "stdout",
     "output_type": "stream",
     "text": [
      "g=0.00%, G=7.48%\n",
      "g=0.50%, G=7.12%\n",
      "g=1.00%, G=6.75%\n",
      "g=1.50%, G=6.36%\n",
      "g=2.00%, G=5.95%\n",
      "g=-0.50%, G=7.82%\n",
      "g=-1.00%, G=8.14%\n",
      "g=-1.50%, G=8.43%\n",
      "g=-2.00%, G=8.71%\n"
     ]
    }
   ],
   "source": [
    "alpha = 0.3\n",
    "beta = 0.04\n",
    "gamma = 0.02\n",
    "rho = 0.5\n",
    "G_list_Vasicek=[]\n",
    "for g in g_list:\n",
    "    simulated_G= sp.newton(lambda G:VasicekBullSpread(S0, g, G, current_rate,start, T, volatility, L ,alpha, beta, gamma, rho).bull_spread_Vasicek_price()-L,g+0.06,tol=1e-8)\n",
    "    G_list_Vasicek.append(simulated_G)\n",
    "    print(f\"g={g:.2%}, G={simulated_G:.2%}\")"
   ]
  },
  {
   "cell_type": "markdown",
   "metadata": {},
   "source": [
    "PART 7: Acquire daily date of 3-year interest rate and estimating alpha, beta and gamma (Maximum Likelihood)"
   ]
  },
  {
   "cell_type": "code",
   "execution_count": 8,
   "metadata": {},
   "outputs": [],
   "source": [
    "def vasicek_model_estimete_parameter(params, r):\n",
    "    alpha, beta, gamma = params\n",
    "    dt = 1 / 252  \n",
    "    r_shift = np.roll(r, 1)\n",
    "    r_shift[0] = 0  \n",
    "    dr = r[1:] - r_shift[1:]\n",
    "    mu = alpha * (beta - r[:-1]) * dt\n",
    "    sigma = gamma * np.sqrt(dt)\n",
    "    likelihood = -0.5 * np.sum(np.log(2 * np.pi * sigma ** 2) + (dr - mu) ** 2 / sigma ** 2)\n",
    "    return -likelihood\n",
    "\n",
    "initial_guess = [0.05, 0.03, 0.02]  # alpha, beta, gamma\n",
    "# bounds = [(0, None), (0, 0.2), (None, None)]\n",
    "result = sp.minimize(vasicek_model_estimete_parameter, initial_guess, args=(treasury_history.values.flatten(),))\n",
    "alpha_hat, beta_hat, gamma_hat = result.x\n"
   ]
  },
  {
   "cell_type": "code",
   "execution_count": 9,
   "metadata": {},
   "outputs": [
    {
     "name": "stdout",
     "output_type": "stream",
     "text": [
      "[0.001]\n"
     ]
    },
    {
     "data": {
      "text/plain": [
       "0.20812949226726551"
      ]
     },
     "execution_count": 9,
     "metadata": {},
     "output_type": "execute_result"
    }
   ],
   "source": [
    "delta = 1 / 252\n",
    "common_dates = sp500_data.index.intersection(treasury_history.index)\n",
    "St = sp500_data.loc[common_dates]['Close'].values\n",
    "rt = treasury_history.loc[common_dates].values\n",
    "# print(min(rt))\n",
    "# print(len(St),len(rt))\n",
    "def Xt_simulation():\n",
    "    simulations = []\n",
    "    for _ in range(len(rt)-1):\n",
    "        Xt=(rt[_+1] - rt[_] - alpha_hat * (beta_hat - rt[_]) * delta) / np.sqrt(delta * rt[_])\n",
    "        simulations.append(Xt)\n",
    "    return simulations\n",
    "Xt_simulation=Xt_simulation()\n",
    "mu_hat= 252*np.mean(log_returns)\n",
    "def Yt_simulation():\n",
    "    simulations = []\n",
    "    for _ in range(len(St)-1):\n",
    "        Yt=(St[_+1] - St[_] - St[_] * mu_hat * delta) / (St[_] * np.sqrt(delta )* volatility)\n",
    "        simulations.append(Yt)\n",
    "    return simulations\n",
    "Yt_simulation=Yt_simulation()\n",
    "#estimates rho\n",
    "Xt_simulation = [float(arr[0]) for arr in Xt_simulation]\n",
    "rho_hat=np.corrcoef(Xt_simulation,Yt_simulation)[0,1]\n",
    "rho_hat"
   ]
  },
  {
   "cell_type": "code",
   "execution_count": 10,
   "metadata": {},
   "outputs": [],
   "source": [
    "treasury_history.to_csv('treasury_history.csv')\n"
   ]
  },
  {
   "cell_type": "code",
   "execution_count": 11,
   "metadata": {},
   "outputs": [
    {
     "name": "stdout",
     "output_type": "stream",
     "text": [
      "{'1/12': 0.055999999999999994, '2/12': 0.0559, '3/12': 0.054000000000000006, '6/12': 0.0526, '1': 0.0479, '2': 0.042300000000000004, '3': 0.0401, '5': 0.0384}\n",
      "Alpha: 6.289185128162494\n",
      "Beta: 0.1252038778071502\n",
      "Gamma: 2.621085140768087\n"
     ]
    },
    {
     "data": {
      "image/png": "[encoded data removed]",
      "text/plain": [
       "<Figure size 640x480 with 1 Axes>"
      ]
     },
     "metadata": {},
     "output_type": "display_data"
    },
    {
     "data": {
      "text/plain": [
       "([0.05349986227728815,\n",
       "  0.05690946984888182,\n",
       "  0.056578685682242946,\n",
       "  0.05153323791930215,\n",
       "  0.04551411211002088,\n",
       "  0.041949663527499625,\n",
       "  0.04075283882124114,\n",
       "  0.03979535969646158],\n",
       " [0.055999999999999994,\n",
       "  0.0559,\n",
       "  0.054000000000000006,\n",
       "  0.0526,\n",
       "  0.0479,\n",
       "  0.042300000000000004,\n",
       "  0.0401,\n",
       "  0.0384])"
      ]
     },
     "execution_count": 11,
     "metadata": {},
     "output_type": "execute_result"
    }
   ],
   "source": [
    "import matplotlib.pyplot as plt\n",
    "\n",
    "quandl.ApiConfig.api_key = '19PYgzG1hHNM7wZyy6NF' \n",
    "yield_curve_data = quandl.get(\"USTREASURY/YIELD\", start_date=\"2023-12-29\", end_date=\"2024-01-01\")\n",
    "yield_curve = yield_curve_data.iloc[0]/100\n",
    "yield_curve_data = yield_curve.to_dict()\n",
    "del yield_curve_data['7 YR']\n",
    "del yield_curve_data['10 YR']\n",
    "del yield_curve_data['20 YR']\n",
    "del yield_curve_data['30 YR']\n",
    "yield_curve = {key.replace(' MO', '/12').replace(' YR', ''): value for key, value in yield_curve_data.items()}\n",
    "print(yield_curve)\n",
    "def vasicek_model(params, T,r0):\n",
    "    alpha, beta, gamma = params\n",
    "    T = eval(T)\n",
    "    A_t_T=1/alpha*(1-np.exp(-alpha*(T)))\n",
    "    B_t_T=(beta-gamma**2/2/alpha**2)*(A_t_T-(T))-gamma**2*A_t_T**2/4/alpha\n",
    "    P_t_T=np.exp(-r0*A_t_T+B_t_T)\n",
    "    y_t_T=-np.log(P_t_T)/T\n",
    "    # print(f\"y_t_T={y_t_T},P_t_T={P_t_T},A_t_T={A_t_T},B_t_T={B_t_T},T={T}\")\n",
    "    return y_t_T\n",
    "\n",
    "# 定义目标函数，最小化实际利率和模型预测利率之间的差异\n",
    "def objective_function(params):\n",
    "    sum_of_squares = 0.0\n",
    "    for maturity, rate in yield_curve.items():\n",
    "        predicted_rate = vasicek_model(params, maturity,current_rate)\n",
    "        sum_of_squares += (rate - predicted_rate) ** 2\n",
    "    # print(f\"sum_of_squares={sum_of_squares}\")\n",
    "    return sum_of_squares\n",
    "\n",
    "# 初始化参数估计值\n",
    "initial_guess = [0.05, 0.04, 0.03]  # 随意选择一些初始值\n",
    "bounds=[(0, None), (0,  None), (0, None)]\n",
    "# 使用SciPy中的minimize函数进行参数估计\n",
    "result = sp.minimize(objective_function, initial_guess,bounds=bounds)\n",
    "\n",
    "# 输出参数估计结果\n",
    "alpha, beta, gamma = result.x\n",
    "print(\"Alpha:\", alpha)\n",
    "print(\"Beta:\", beta)\n",
    "print(\"Gamma:\", gamma)\n",
    "\n",
    "# 生成用于绘制的时间范围\n",
    "T_range = list(yield_curve.keys())\n",
    "\n",
    "# 使用估计的参数计算Vasicek模型的利率\n",
    "estimated_rates = [vasicek_model(result.x, T, current_rate) for T in T_range]\n",
    "\n",
    "# 绘制实际债券收益率曲线\n",
    "plt.plot(list(yield_curve_data.keys()),list(yield_curve.values()), label=\"Actual Yield Curve\")\n",
    "# 绘制估计的Vasicek模型曲线\n",
    "plt.plot(list(yield_curve_data.keys()), estimated_rates, label=\"Estimated Vasicek Model\")\n",
    "\n",
    "plt.xlabel('Maturity')\n",
    "plt.ylabel('Interest Rate')\n",
    "plt.title('Actual vs. Estimated Vasicek Model Yield Curve')\n",
    "plt.legend()\n",
    "plt.grid(True)\n",
    "plt.show()\n",
    "list(yield_curve.values())\n",
    "estimated_rates, list(yield_curve.values())"
   ]
  },
  {
   "cell_type": "code",
   "execution_count": 12,
   "metadata": {},
   "outputs": [
    {
     "name": "stdout",
     "output_type": "stream",
     "text": [
      "Estimated Parameters:\n",
      "Alpha:0.19888 \n",
      "Beta:0.03354 \n",
      "Gamma:0.01035 \n",
      "Rho:0.20813\n"
     ]
    }
   ],
   "source": [
    "print(\"Estimated Parameters:\")\n",
    "print(f\"Alpha:{alpha_hat:.5f} \\nBeta:{beta_hat:.5f} \\nGamma:{gamma_hat:.5f} \\nRho:{rho_hat:.5f}\")"
   ]
  },
  {
   "cell_type": "markdown",
   "metadata": {},
   "source": [
    "PART 8: Apply calibrated estimators to estimate alpha, beta, gamma again (Vasicek Model)"
   ]
  },
  {
   "cell_type": "code",
   "execution_count": 13,
   "metadata": {},
   "outputs": [
    {
     "name": "stdout",
     "output_type": "stream",
     "text": [
      "g=0.00%, G=8.64%\n",
      "g=0.50%, G=8.09%\n",
      "g=1.00%, G=7.55%\n",
      "g=1.50%, G=7.00%\n",
      "g=2.00%, G=6.45%\n",
      "g=-0.50%, G=9.18%\n",
      "g=-1.00%, G=9.71%\n",
      "g=-1.50%, G=10.24%\n",
      "g=-2.00%, G=10.77%\n"
     ]
    }
   ],
   "source": [
    "G_list_Vasicek_Calibration=[]\n",
    "    \n",
    "for g in g_list:\n",
    "    simulated_G= sp.newton(lambda G:VasicekBullSpread(S0, g, G, current_rate,start, T, volatility, L ,alpha_hat, beta_hat, gamma_hat, rho_hat).bull_spread_Vasicek_price()-L,g,tol=1e-8)\n",
    "    G_list_Vasicek_Calibration.append(simulated_G)\n",
    "    print(f\"g={g:.2%}, G={simulated_G:.2%}\")\n",
    "    \n",
    "# G_list_Vasicek_Calibration_yield_curve=[]    \n",
    "# for g in g_list:\n",
    "#     simulated_G= sp.newton(lambda G:VasicekBullSpread(S0, g, G, current_rate,start, T, volatility, L ,alpha_est, beta_est, gamma_est, rho_hat).bull_spread_Vasicek_price()-L,g+0.06,tol=1e-8)\n",
    "#     G_list_Vasicek_Calibration_yield_curve.append(simulated_G)\n",
    "#     print(f\"g={g:.2%}, G={simulated_G:.2%}\")"
   ]
  },
  {
   "cell_type": "markdown",
   "metadata": {},
   "source": [
    "PART 9: Past 3-year delta AND rho hedging (Based on Vasicek model)"
   ]
  },
  {
   "cell_type": "code",
   "execution_count": 14,
   "metadata": {},
   "outputs": [
    {
     "name": "stdout",
     "output_type": "stream",
     "text": [
      "Rate at 2021-01-01 00:00:00: 0.16%\n",
      " g=0.00%, G=0.32%\n"
     ]
    }
   ],
   "source": [
    "start_date = dt.datetime(2021, 1, 1)\n",
    "end_date = dt.datetime(2023, 12, 31)\n",
    "quandl.ApiConfig.api_key = '19PYgzG1hHNM7wZyy6NF' \n",
    "treasury_3yr_daily = quandl.get(\"USTREASURY/YIELD.7\", start_date=start_date, end_date=end_date, column_index=1).values/100\n",
    "treasury_3yr_daily = [item[0] for item in treasury_3yr_daily]\n",
    "Vasicek_G_offical= sp.newton(lambda G:VasicekBullSpread(S0, 0, G, rate_2021,start, T, volatility, L ,alpha_hat, beta_hat, gamma_hat, rho_hat).bull_spread_Vasicek_price()-L,g+0.06,tol=1e-8)\n",
    "print(f\"Rate at {start_date}: {rate_2021:.2%}\\n g={0:.2%}, G={Vasicek_G_offical:.2%}\")"
   ]
  },
  {
   "cell_type": "code",
   "execution_count": 15,
   "metadata": {},
   "outputs": [
    {
     "name": "stdout",
     "output_type": "stream",
     "text": [
      "delta hedged results=$-481.86\n"
     ]
    }
   ],
   "source": [
    "Vasicek_option=VasicekBullSpread(S0, 0,Vasicek_G_offical, rate_2021,start, T, volatility, L, alpha_hat, beta_hat, gamma_hat, rho_hat)\n",
    "delta_hedge_results=Vasicek_option.Delta_Hedge_Vasicek(sp500_3y)\n",
    "print(f\"delta hedged results=${delta_hedge_results:.2f}\")"
   ]
  },
  {
   "cell_type": "code",
   "execution_count": 16,
   "metadata": {
    "notebookRunGroups": {
     "groupValue": "2"
    }
   },
   "outputs": [
    {
     "name": "stdout",
     "output_type": "stream",
     "text": [
      "Rho hedged results=$-267.36\n",
      "X= 201931.63933238352\n",
      "Delta-Rho hedged results=$122.95\n"
     ]
    }
   ],
   "source": [
    "\n",
    "rho_hedge_results=Vasicek_option.Rho_Hedge_Vasicek(sp500_3y,treasury_3yr_daily)\n",
    "print(f\"Rho hedged results=${rho_hedge_results:.2f}\")\n",
    "delta_rho_hedge_results=Vasicek_option.DeltaRho_Hedge_Vasicek(sp500_3y,treasury_3yr_daily)\n",
    "print(f\"Delta-Rho hedged results=${delta_rho_hedge_results:.2f}\")"
   ]
  },
  {
   "cell_type": "code",
   "execution_count": 17,
   "metadata": {},
   "outputs": [
    {
     "name": "stdout",
     "output_type": "stream",
     "text": [
      "R0= 0.0016\n",
      "length of Rt= 750\n",
      "Backtest results=$216227.30\n"
     ]
    }
   ],
   "source": [
    "#backtest\n",
    "print(\"R0=\",treasury_3yr_daily[0])\n",
    "print(\"length of Rt=\",len(treasury_3yr_daily))\n",
    "def backtest(Rt):\n",
    "    cumulated=200000\n",
    "    for i in range(len(Rt)):\n",
    "        cumulated = np.exp(Rt[i]/250)*cumulated\n",
    "    return cumulated\n",
    "print(f\"Backtest results=${backtest(treasury_3yr_daily):.2f}\")"
   ]
  },
  {
   "cell_type": "markdown",
   "metadata": {},
   "source": [
    "PART 10: Define the subclass \"StochasticVolatilityBullSpread\" which contains special information and method from Stochastic Volatility model (Pricing; Delta Hedging)"
   ]
  },
  {
   "cell_type": "code",
   "execution_count": 18,
   "metadata": {},
   "outputs": [],
   "source": [
    "class StochasticVolatilityBullSpread(VasicekBullSpread):\n",
    "    def __init__(self, S, g, G, r, t, T, sigma, L, alpha, beta, gamma, rho, kappa, theta, volvol,rho2, v0):\n",
    "        super().__init__(S, g, G, r, t, T, sigma, L, alpha, beta, gamma, rho)\n",
    "        self.kappa = kappa \n",
    "        self.theta = theta\n",
    "        self.volvol = volvol\n",
    "        self.rho2 = rho2\n",
    "        self.v0 = v0\n",
    "        \n",
    "\n",
    "    def heston_bull_spread_price(self):\n",
    "        call_price_K1 = self.generate_stock_path(self.K1)\n",
    "        call_price_K2 = self.generate_stock_path(self.K2)\n",
    "        bull_spread_price = self.discount * self.K1 + call_price_K1 - call_price_K2\n",
    "        return bull_spread_price\n",
    "    \n",
    "    def generate_stock_path(self, K):\n",
    "        n=10000\n",
    "        n_steps = 252\n",
    "        dt = self.Term / n_steps\n",
    "        np.random.seed(2024)\n",
    "        Z1 = np.random.normal(size=(n_steps, n))\n",
    "        Z2 = self.rho2 * Z1 + np.sqrt(1 - self.rho2 ** 2) * np.random.normal(size=(n_steps, n)) #random shock for volatility\n",
    "        Z3 = self.rho * Z1 + np.sqrt(1 - self.rho ** 2) * np.random.normal(size=(n_steps, n)) #random shock for interest rate\n",
    "        S = np.zeros((n_steps + 1, n))\n",
    "        v = np.zeros((n_steps + 1, n))\n",
    "        R = np.zeros((n_steps + 1, n))\n",
    "        S[0] = self.S\n",
    "        v[0] = self.v0\n",
    "        R[0] = self.r\n",
    "        #print(S0, maturity, r, kappa, theta, volvol, rho, n_steps, n_simulations, dt)\n",
    "        for i in range(1, n_steps + 1):\n",
    "            S[i] = S[i - 1] * np.exp((self.r - 0.5 * v[i - 1]) * dt + np.sqrt(v[i - 1] * dt) * Z1[i - 1])\n",
    "            v[i] = np.maximum(v[i - 1] + self.kappa * (self.theta - v[i - 1]) * dt + self.volvol * np.sqrt(v[i - 1] * dt) * Z2[i - 1], 0)\n",
    "            R[i] = np.maximum(R[i - 1] + self.alpha * (self.beta - R[i - 1]) * dt + self.gamma * np.sqrt(dt) * Z3[i - 1], 0)\n",
    "        payoffs = np.maximum(S[-1] - K, 0)\n",
    "        option_price = self.discount * payoffs\n",
    "        return np.mean(option_price)\n",
    "    \n",
    "\n",
    "    "
   ]
  },
  {
   "cell_type": "markdown",
   "metadata": {},
   "source": [
    "PART 11: Stochastic Volatility Model"
   ]
  },
  {
   "cell_type": "code",
   "execution_count": 19,
   "metadata": {},
   "outputs": [
    {
     "name": "stdout",
     "output_type": "stream",
     "text": [
      "[*********************100%%**********************]  1 of 1 completed\n"
     ]
    },
    {
     "name": "stderr",
     "output_type": "stream",
     "text": [
      "c:\\Users\\Julia\\anaconda3\\Lib\\site-packages\\yfinance\\utils.py:771: FutureWarning: The 'unit' keyword in TimedeltaIndex construction is deprecated and will be removed in a future version. Use pd.to_timedelta instead.\n",
      "  df.index += _pd.TimedeltaIndex(dst_error_hours, 'h')\n"
     ]
    }
   ],
   "source": [
    "start_date = dt.datetime(2024, 1, 1) - dt.timedelta(days=10*365)\n",
    "end_date = dt.datetime(2024, 1, 1) \n",
    "vix_data = yf.download('^VIX', start=start_date, end=end_date)\n",
    "vix = vix_data['Close'].values\n",
    "vix_history = (vix/100)**2"
   ]
  },
  {
   "cell_type": "code",
   "execution_count": 20,
   "metadata": {},
   "outputs": [
    {
     "name": "stdout",
     "output_type": "stream",
     "text": [
      "Initial Parameters:\n",
      "Kappa:10.00000 \n",
      "Theta:0.03514 \n",
      "Volvol:0.42425 \n",
      "Rho:-0.71006\n"
     ]
    }
   ],
   "source": [
    "vt=vix_history\n",
    "kappa=10\n",
    "def Xt(t,theta):\n",
    "    return (vt[t+1] - vt[t] - kappa * (theta - vt[t]) * delta) / np.sqrt(delta * vt[t])\n",
    "def avgXt(theta):\n",
    "    return np.mean([Xt(t, theta) for t in range(len(vt)-1)])\n",
    "theta=sp.newton(lambda theta:avgXt(theta),10)\n",
    "def Xt_simulation():\n",
    "    simulations = []\n",
    "    for _ in range(len(vt)-1):\n",
    "        Xt=(vt[_+1] - vt[_] - kappa * (theta - vt[_]) * delta) / np.sqrt(delta * vt[_])\n",
    "        simulations.append(Xt)\n",
    "    return simulations\n",
    "Xt_simulation=Xt_simulation()\n",
    "volvol=np.var(Xt_simulation)\n",
    "St=sp500\n",
    "def Yt(t,mu):\n",
    "    return (St[t+1] - St[t] - St[t] * mu * delta) / (St[t] * np.sqrt(delta * vt[t]))\n",
    "def avgYt(mu):\n",
    "    return np.mean([Yt(t, mu) for t in range(len(vt)-1)])\n",
    "mu=sp.newton(lambda mu:avgYt(mu),10)\n",
    "def Yt_simulation():\n",
    "    simulations = []\n",
    "    for _ in range(len(St)-1):\n",
    "        Yt=(St[_+1] - St[_] - St[_] * mu_hat * delta) / (St[_] * np.sqrt(delta * vt[_]))\n",
    "        simulations.append(Yt)\n",
    "    return simulations\n",
    "Yt_simulation=Yt_simulation()\n",
    "rho_hat_vol=np.corrcoef(Xt_simulation,Yt_simulation)[0, 1]\n",
    "\n",
    "print(\"Initial Parameters:\")\n",
    "print(f\"Kappa:{kappa:.5f} \\nTheta:{theta:.5f} \\nVolvol:{volvol:.5f} \\nRho:{rho_hat_vol:.5f}\")"
   ]
  },
  {
   "cell_type": "markdown",
   "metadata": {},
   "source": [
    "PART 12: Calibrate Stochastic Volatility Model"
   ]
  },
  {
   "cell_type": "code",
   "execution_count": 21,
   "metadata": {},
   "outputs": [
    {
     "name": "stdout",
     "output_type": "stream",
     "text": [
      "Optimized Parameters:\n",
      "Kappa:13.61236 \n",
      "Theta:0.03820 \n",
      "Volvol:0.22239 \n",
      "Rho:-0.71006\n"
     ]
    }
   ],
   "source": [
    "def heston_model_estimete_parameter(params, r):\n",
    "    kappa, theta, volvol = params\n",
    "    dt = 1 / 252  \n",
    "    r_shift = np.roll(r, 1)\n",
    "    r_shift[0] = 0  \n",
    "    dr = r[1:] - r_shift[1:]\n",
    "    mu = kappa * (theta - r[:-1]) * dt\n",
    "    sigma = volvol * np.sqrt(dt)\n",
    "    likelihood = -0.5 * np.sum(np.log(2 * np.pi * sigma ** 2) + (dr - mu) ** 2 / sigma ** 2)\n",
    "    return -likelihood\n",
    "\n",
    "initial_guess = [0.05, 0.03, 0.02]  # alpha, beta, gamma\n",
    "# bounds = [(0, None), (0, 0.2), (None, None)]\n",
    "result = sp.minimize(heston_model_estimete_parameter, initial_guess, args=(vix_history,))\n",
    "kappa_hat, theta_hat, volvol_hat = result.x\n",
    "\n",
    "print(\"Optimized Parameters:\")\n",
    "print(f\"Kappa:{kappa_hat:.5f} \\nTheta:{theta_hat:.5f} \\nVolvol:{volvol_hat:.5f} \\nRho:{rho_hat_vol:.5f}\")"
   ]
  },
  {
   "cell_type": "markdown",
   "metadata": {},
   "source": [
    "PART 13: estimate g-G based on stochastic volatility model"
   ]
  },
  {
   "cell_type": "code",
   "execution_count": 22,
   "metadata": {},
   "outputs": [
    {
     "name": "stdout",
     "output_type": "stream",
     "text": [
      "[*********************100%%**********************]  1 of 1 completed\n"
     ]
    },
    {
     "name": "stderr",
     "output_type": "stream",
     "text": [
      "c:\\Users\\Julia\\anaconda3\\Lib\\site-packages\\yfinance\\utils.py:771: FutureWarning: The 'unit' keyword in TimedeltaIndex construction is deprecated and will be removed in a future version. Use pd.to_timedelta instead.\n",
      "  df.index += _pd.TimedeltaIndex(dst_error_hours, 'h')\n"
     ]
    },
    {
     "name": "stdout",
     "output_type": "stream",
     "text": [
      "g=0.00%, G=9.61%\n",
      "g=0.50%, G=8.94%\n",
      "g=1.00%, G=8.26%\n",
      "g=1.50%, G=7.58%\n",
      "g=2.00%, G=6.90%\n",
      "g=-0.50%, G=10.30%\n",
      "g=-1.00%, G=10.99%\n",
      "g=-1.50%, G=11.69%\n",
      "g=-2.00%, G=12.40%\n"
     ]
    }
   ],
   "source": [
    "G_list_Heston=[]\n",
    "\n",
    "start_date = dt.datetime(2024, 1, 1)\n",
    "end_date = dt.datetime.now()\n",
    "vix_new = yf.download('^VIX', start=start_date, end=end_date)\n",
    "vix_n = ((vix_new['Close'].values)/100)**2\n",
    "vo = vix_n[0]\n",
    "for g in g_list:\n",
    "    simulated_G= sp.newton(lambda G:StochasticVolatilityBullSpread(S0, g, G, current_rate,start, T, volatility, L, alpha_hat, beta_hat, gamma_hat, rho_hat, kappa_hat, theta_hat, volvol_hat, rho_hat_vol,vo).heston_bull_spread_price()-L,g+0.06,tol=1e-8)\n",
    "    G_list_Heston.append(simulated_G)\n",
    "    print(f\"g={g:.2%}, G={simulated_G:.2%}\")"
   ]
  },
  {
   "cell_type": "markdown",
   "metadata": {},
   "source": [
    "PART 14: Investigate Difference in g-G"
   ]
  },
  {
   "cell_type": "code",
   "execution_count": 23,
   "metadata": {},
   "outputs": [
    {
     "name": "stdout",
     "output_type": "stream",
     "text": [
      "Rate at 2024-01-01 00:00:00 = 4.01%\n",
      "Average Rate (Mean Reversion Level) = 3.35%\n",
      "Volatility at 2024-01-01 00:00:00 = 13.20%\n",
      "Average Volatility at (Mean Reversion Level) = 19.54%\n",
      "Volatility Square at 2024-01-01 00:00:00= 1.74%\n",
      "Average Volatility Square at (Mean Reversion Level) = 3.82%\n"
     ]
    }
   ],
   "source": [
    "print(f\"Rate at {start_date} = {current_rate:.2%}\")\n",
    "print(f\"Average Rate (Mean Reversion Level) = {beta_hat:.2%}\")\n",
    "print(f\"Volatility at {start_date} = {np.sqrt(vo):.2%}\")\n",
    "print(f\"Average Volatility at (Mean Reversion Level) = {np.sqrt(theta_hat):.2%}\")\n",
    "print(f\"Volatility Square at {start_date}= {vo:.2%}\")\n",
    "print(f\"Average Volatility Square at (Mean Reversion Level) = {theta_hat:.2%}\")\n"
   ]
  },
  {
   "cell_type": "markdown",
   "metadata": {},
   "source": [
    "* GARCH MODEL"
   ]
  },
  {
   "cell_type": "code",
   "execution_count": 24,
   "metadata": {},
   "outputs": [
    {
     "name": "stdout",
     "output_type": "stream",
     "text": [
      "[*********************100%%**********************]  1 of 1 completed"
     ]
    },
    {
     "name": "stderr",
     "output_type": "stream",
     "text": [
      "c:\\Users\\Julia\\anaconda3\\Lib\\site-packages\\yfinance\\utils.py:771: FutureWarning: The 'unit' keyword in TimedeltaIndex construction is deprecated and will be removed in a future version. Use pd.to_timedelta instead.\n",
      "  df.index += _pd.TimedeltaIndex(dst_error_hours, 'h')\n"
     ]
    },
    {
     "name": "stdout",
     "output_type": "stream",
     "text": [
      "\n"
     ]
    },
    {
     "name": "stderr",
     "output_type": "stream",
     "text": [
      "C:\\Users\\Julia\\AppData\\Local\\Temp\\ipykernel_23396\\854815215.py:10: DeprecationWarning: Conversion of an array with ndim > 0 to a scalar is deprecated, and will error in future. Ensure you extract a single element from your array before performing this operation. (Deprecated NumPy 1.25.)\n",
      "  current_rate = float(treasury_history.iloc[-1].values)\n"
     ]
    }
   ],
   "source": [
    "from arch import arch_model\n",
    "start_date = dt.datetime(2024, 1, 1) - dt.timedelta(days=1*365)\n",
    "end_date = dt.datetime(2024, 1, 1) \n",
    "sp500_data = yf.download('^GSPC', start=start_date, end=end_date)\n",
    "sp500 = sp500_data['Close'].values\n",
    "S0 = sp500[-1]\n",
    "\n",
    "quandl.ApiConfig.api_key = '19PYgzG1hHNM7wZyy6NF' \n",
    "treasury_history = quandl.get(\"USTREASURY/YIELD.7\", start_date=start_date, end_date=end_date, column_index=1)/100\n",
    "current_rate = float(treasury_history.iloc[-1].values)\n"
   ]
  },
  {
   "cell_type": "code",
   "execution_count": 25,
   "metadata": {},
   "outputs": [
    {
     "name": "stdout",
     "output_type": "stream",
     "text": [
      "[*********************100%%**********************]  1 of 1 completed\n",
      "Iteration:      1,   Func. Count:      6,   Neg. LLF: 8350607948.4466305\n",
      "Iteration:      2,   Func. Count:     13,   Neg. LLF: 1655161573.0919487\n",
      "Iteration:      3,   Func. Count:     19,   Neg. LLF: 36337.3074492383\n",
      "Iteration:      4,   Func. Count:     25,   Neg. LLF: 26548.86690216142\n",
      "Iteration:      5,   Func. Count:     31,   Neg. LLF: 7181.730335525123\n",
      "Iteration:      6,   Func. Count:     37,   Neg. LLF: 202275.36799239612\n",
      "Iteration:      7,   Func. Count:     43,   Neg. LLF: 6853.853943451664\n",
      "Iteration:      8,   Func. Count:     48,   Neg. LLF: 6800.925710541648\n",
      "Iteration:      9,   Func. Count:     53,   Neg. LLF: 39672.31339770514\n",
      "Iteration:     10,   Func. Count:     59,   Neg. LLF: 6792.864337703582\n",
      "Iteration:     11,   Func. Count:     64,   Neg. LLF: 6787.406695706052\n",
      "Iteration:     12,   Func. Count:     69,   Neg. LLF: 6786.831814567824\n",
      "Iteration:     13,   Func. Count:     74,   Neg. LLF: 6786.786569255784\n",
      "Iteration:     14,   Func. Count:     79,   Neg. LLF: 6786.780213812427\n",
      "Iteration:     15,   Func. Count:     84,   Neg. LLF: 6786.780088363003\n",
      "Iteration:     16,   Func. Count:     89,   Neg. LLF: 6786.780086566154\n",
      "Iteration:     17,   Func. Count:     93,   Neg. LLF: 6786.780086047161\n",
      "Optimization terminated successfully    (Exit mode 0)\n",
      "            Current function value: 6786.780086566154\n",
      "            Iterations: 17\n",
      "            Function evaluations: 93\n",
      "            Gradient evaluations: 17\n"
     ]
    },
    {
     "name": "stderr",
     "output_type": "stream",
     "text": [
      "c:\\Users\\Julia\\anaconda3\\Lib\\site-packages\\yfinance\\utils.py:771: FutureWarning: The 'unit' keyword in TimedeltaIndex construction is deprecated and will be removed in a future version. Use pd.to_timedelta instead.\n",
      "  df.index += _pd.TimedeltaIndex(dst_error_hours, 'h')\n"
     ]
    }
   ],
   "source": [
    "start_date = dt.datetime(2024, 1, 1) - dt.timedelta(days=10*365)\n",
    "end_date = dt.datetime(2024, 1, 1)\n",
    "\n",
    "vix = yf.download('^VIX', start=start_date, end=end_date)\n",
    "vix_data = vix['Close'].values\n",
    "\n",
    "# GARCH\n",
    "model = arch_model(vix_data, vol='Garch', p=1, q=1)  # 我们改为GARCH(1,1)模型\n",
    "result = model.fit()\n",
    "omega = result.params['omega']\n",
    "alpha = result.params['alpha[1]']\n",
    "beta = result.params['beta[1]']\n",
    "\n",
    "initial_volatility = vix_data[-1]  # \n",
    "T = 252 * 3  \n",
    "\n",
    "volatility_path = np.zeros(T)\n",
    "volatility_path[0] = initial_volatility\n",
    "\n",
    "# simulate path\n",
    "for t in range(1, T):\n",
    "    volatility_path[t] = np.sqrt(omega + alpha * volatility_path[t-1]**2 + beta * vix_data[-t]**2)"
   ]
  }
 ],
 "metadata": {
  "kernelspec": {
   "display_name": "base",
   "language": "python",
   "name": "python3"
  },
  "language_info": {
   "codemirror_mode": {
    "name": "ipython",
    "version": 3
   },
   "file_extension": ".py",
   "mimetype": "text/x-python",
   "name": "python",
   "nbconvert_exporter": "python",
   "pygments_lexer": "ipython3",
   "version": "3.11.4"
  }
 },
 "nbformat": 4,
 "nbformat_minor": 2
}
